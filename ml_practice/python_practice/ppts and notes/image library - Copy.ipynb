{
 "cells": [
  {
   "cell_type": "code",
   "execution_count": 0,
   "id": "2b4c3b",
   "metadata": {
    "collapsed": false
   },
   "outputs": [
   ],
   "source": [
    "from PIL import Image\n",
    "\n",
    "# Open an image\n",
    "img = Image.open('example.jpg')\n",
    "\n",
    "# Show the image\n",
    "img.show()\n",
    "\n",
    "# Resize\n",
    "resized_img = img.resize((200, 200))\n",
    "\n",
    "# Convert to grayscale\n",
    "gray_img = img.convert('L')\n",
    "\n",
    "# Save the edited image\n",
    "gray_img.save('gray_example.jpg')\n"
   ]
  },
  {
   "cell_type": "code",
   "execution_count": 0,
   "id": "538704",
   "metadata": {
    "collapsed": false
   },
   "outputs": [
   ],
   "source": [
    "import pytesseract\n",
    "from PIL import Image\n",
    "\n",
    "# Open image\n",
    "img = Image.open('text_image.jpg')\n",
    "\n",
    "# Extract text\n",
    "text = pytesseract.image_to_string(img)\n",
    "\n",
    "print(\"Extracted Text:\", text)"
   ]
  },
  {
   "cell_type": "code",
   "execution_count": 0,
   "id": "a72d97",
   "metadata": {
    "collapsed": false
   },
   "outputs": [
   ],
   "source": [
    "import pytesseract\n",
    "from PIL import Image\n",
    "\n",
    "# Open image\n",
    "img = Image.open('d1.png')\n",
    "\n",
    "# Extract text\n",
    "text = pytesseract.image_to_string(img)\n",
    "\n",
    "print(\"Extracted Text:\", text)"
   ]
  }
 ],
 "metadata": {
  "kernelspec": {
   "argv": [
    "/usr/bin/python3",
    "-m",
    "ipykernel",
    "--HistoryManager.enabled=False",
    "--matplotlib=inline",
    "-c",
    "%config InlineBackend.figure_formats = set(['retina'])\nimport matplotlib; matplotlib.rcParams['figure.figsize'] = (12, 7)",
    "-f",
    "{connection_file}"
   ],
   "display_name": "Python 3 (system-wide)",
   "env": {
   },
   "language": "python",
   "metadata": {
    "cocalc": {
     "description": "Python 3 programming language",
     "priority": 100,
     "url": "https://www.python.org/"
    }
   },
   "name": "python3",
   "resource_dir": "/ext/jupyter/kernels/python3"
  }
 },
 "nbformat": 4,
 "nbformat_minor": 4
}