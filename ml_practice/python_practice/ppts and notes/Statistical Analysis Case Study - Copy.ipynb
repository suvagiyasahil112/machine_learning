{
 "cells": [
  {
   "cell_type": "code",
   "execution_count": 2,
   "id": "9945860c-3cfe-44bb-b94e-18d7edfb51e3",
   "metadata": {},
   "outputs": [
    {
     "data": {
      "text/html": [
       "<div>\n",
       "<style scoped>\n",
       "    .dataframe tbody tr th:only-of-type {\n",
       "        vertical-align: middle;\n",
       "    }\n",
       "\n",
       "    .dataframe tbody tr th {\n",
       "        vertical-align: top;\n",
       "    }\n",
       "\n",
       "    .dataframe thead th {\n",
       "        text-align: right;\n",
       "    }\n",
       "</style>\n",
       "<table border=\"1\" class=\"dataframe\">\n",
       "  <thead>\n",
       "    <tr style=\"text-align: right;\">\n",
       "      <th></th>\n",
       "      <th>CustomerID</th>\n",
       "      <th>Age</th>\n",
       "      <th>Gender</th>\n",
       "      <th>PurchaseAmount</th>\n",
       "      <th>PurchaseCategory</th>\n",
       "      <th>PaymentMethod</th>\n",
       "      <th>PurchaseDate</th>\n",
       "      <th>DeliveryTime</th>\n",
       "      <th>CustomerRating</th>\n",
       "    </tr>\n",
       "  </thead>\n",
       "  <tbody>\n",
       "    <tr>\n",
       "      <th>0</th>\n",
       "      <td>1</td>\n",
       "      <td>56</td>\n",
       "      <td>Male</td>\n",
       "      <td>62.65</td>\n",
       "      <td>Clothing</td>\n",
       "      <td>Credit Card</td>\n",
       "      <td>2023-01-01 00:00:00</td>\n",
       "      <td>6</td>\n",
       "      <td>3</td>\n",
       "    </tr>\n",
       "    <tr>\n",
       "      <th>1</th>\n",
       "      <td>2</td>\n",
       "      <td>69</td>\n",
       "      <td>Female</td>\n",
       "      <td>102.18</td>\n",
       "      <td>Beauty</td>\n",
       "      <td>Cash on Delivery</td>\n",
       "      <td>2023-01-01 00:01:00</td>\n",
       "      <td>9</td>\n",
       "      <td>1</td>\n",
       "    </tr>\n",
       "    <tr>\n",
       "      <th>2</th>\n",
       "      <td>3</td>\n",
       "      <td>46</td>\n",
       "      <td>Female</td>\n",
       "      <td>96.59</td>\n",
       "      <td>Grocery</td>\n",
       "      <td>Credit Card</td>\n",
       "      <td>2023-01-01 00:02:00</td>\n",
       "      <td>4</td>\n",
       "      <td>3</td>\n",
       "    </tr>\n",
       "    <tr>\n",
       "      <th>3</th>\n",
       "      <td>4</td>\n",
       "      <td>32</td>\n",
       "      <td>Male</td>\n",
       "      <td>111.51</td>\n",
       "      <td>Books</td>\n",
       "      <td>Credit Card</td>\n",
       "      <td>2023-01-01 00:03:00</td>\n",
       "      <td>6</td>\n",
       "      <td>1</td>\n",
       "    </tr>\n",
       "    <tr>\n",
       "      <th>4</th>\n",
       "      <td>5</td>\n",
       "      <td>60</td>\n",
       "      <td>Male</td>\n",
       "      <td>-9.55</td>\n",
       "      <td>Books</td>\n",
       "      <td>Debit Card</td>\n",
       "      <td>2023-01-01 00:04:00</td>\n",
       "      <td>9</td>\n",
       "      <td>3</td>\n",
       "    </tr>\n",
       "  </tbody>\n",
       "</table>\n",
       "</div>"
      ],
      "text/plain": [
       "   CustomerID  Age  Gender  PurchaseAmount PurchaseCategory     PaymentMethod  \\\n",
       "0           1   56    Male           62.65         Clothing       Credit Card   \n",
       "1           2   69  Female          102.18           Beauty  Cash on Delivery   \n",
       "2           3   46  Female           96.59          Grocery       Credit Card   \n",
       "3           4   32    Male          111.51            Books       Credit Card   \n",
       "4           5   60    Male           -9.55            Books        Debit Card   \n",
       "\n",
       "         PurchaseDate  DeliveryTime  CustomerRating  \n",
       "0 2023-01-01 00:00:00             6               3  \n",
       "1 2023-01-01 00:01:00             9               1  \n",
       "2 2023-01-01 00:02:00             4               3  \n",
       "3 2023-01-01 00:03:00             6               1  \n",
       "4 2023-01-01 00:04:00             9               3  "
      ]
     },
     "execution_count": 2,
     "metadata": {},
     "output_type": "execute_result"
    }
   ],
   "source": [
    "import pandas as pd\n",
    "import numpy as np\n",
    "\n",
    "# Set random seed for reproducibility\n",
    "np.random.seed(42)\n",
    "\n",
    "# Generate fake data\n",
    "num_customers = 5000\n",
    "customer_ids = np.arange(1, num_customers + 1)\n",
    "ages = np.random.randint(18, 70, size=num_customers)\n",
    "genders = np.random.choice(['Male', 'Female'], size=num_customers)\n",
    "purchase_amounts = np.round(np.random.normal(loc=100, scale=50, size=num_customers), 2)\n",
    "purchase_categories = np.random.choice(['Electronics', 'Clothing', 'Grocery', 'Beauty', 'Books', 'Furniture', 'Sports'], size=num_customers)\n",
    "payment_methods = np.random.choice(['Credit Card', 'Debit Card', 'PayPal', 'Net Banking', 'Cash on Delivery'], size=num_customers)\n",
    "purchase_dates = pd.date_range(start='2023-01-01', periods=num_customers, freq='T').to_numpy()\n",
    "delivery_times = np.random.randint(1, 10, size=num_customers)\n",
    "customer_ratings = np.random.randint(1, 6, size=num_customers)\n",
    "\n",
    "# Create DataFrame\n",
    "data = pd.DataFrame({\n",
    "    'CustomerID': customer_ids,\n",
    "    'Age': ages,\n",
    "    'Gender': genders,\n",
    "    'PurchaseAmount': purchase_amounts,\n",
    "    'PurchaseCategory': purchase_categories,\n",
    "    'PaymentMethod': payment_methods,\n",
    "    'PurchaseDate': purchase_dates,\n",
    "    'DeliveryTime': delivery_times,\n",
    "    'CustomerRating': customer_ratings\n",
    "})\n",
    "\n",
    "# Display the first few rows of the DataFrame\n",
    "data.head()\n"
   ]
  },
  {
   "cell_type": "markdown",
   "id": "b6dea187-7598-4165-ab91-a8523d331167",
   "metadata": {},
   "source": [
    "#### Statistical Analysis\r\n",
    "\r\n",
    "1.  **Measures of Central Tendencies**\r\n",
    "    \r\n",
    "\r\n",
    "Let's calculate the mean, median, and mode of the purchase amounts."
   ]
  },
  {
   "cell_type": "code",
   "execution_count": 3,
   "id": "55f57909-f1b6-4fc0-87e7-860dccdefac3",
   "metadata": {},
   "outputs": [
    {
     "data": {
      "text/plain": [
       "(99.04145600000001, 99.11, 51.01)"
      ]
     },
     "execution_count": 3,
     "metadata": {},
     "output_type": "execute_result"
    }
   ],
   "source": [
    "mean_purchase = data['PurchaseAmount'].mean()\n",
    "median_purchase = data['PurchaseAmount'].median()\n",
    "mode_purchase = data['PurchaseAmount'].mode()[0]\n",
    "\n",
    "mean_purchase, median_purchase, mode_purchase\n"
   ]
  },
  {
   "cell_type": "markdown",
   "id": "be4eabc6-db63-4dd8-9b5e-5c7197c03b0b",
   "metadata": {},
   "source": [
    "**Conclusion:**\n",
    "\n",
    "*   **Mean Purchase Amount:** The average amount spent by customers.\n",
    "    \n",
    "*   **Median Purchase Amount:** The middle value of the purchase amounts, providing a better measure in case of skewed data.\n",
    "    \n",
    "*   **Mode Purchase Amount:** The most frequently occurring purchase amount"
   ]
  },
  {
   "cell_type": "markdown",
   "id": "214c7a3e-fbb2-474c-b0d0-242e3b6faf50",
   "metadata": {},
   "source": [
    "2.  **Central Limit Theorem (CLT)**\n",
    "    \n",
    "\n",
    "We'll take multiple samples from our data and show how the distribution of the sample means approximates a normal distribution."
   ]
  },
  {
   "cell_type": "code",
   "execution_count": 4,
   "id": "8a284885-3acb-4be6-81c1-7a7d98527864",
   "metadata": {},
   "outputs": [
    {
     "data": {
      "image/png": "[encoded data removed]",
      "text/plain": [
       "<Figure size 640x480 with 1 Axes>"
      ]
     },
     "metadata": {},
     "output_type": "display_data"
    }
   ],
   "source": [
    "sample_means = []\n",
    "\n",
    "for _ in range(1000):\n",
    "    sample = data['PurchaseAmount'].sample(100, replace=True)\n",
    "    sample_means.append(sample.mean())\n",
    "\n",
    "# Plotting the distribution of sample means\n",
    "import matplotlib.pyplot as plt\n",
    "\n",
    "plt.hist(sample_means, bins=30, edgecolor='k', alpha=0.7)\n",
    "plt.title('Distribution of Sample Means')\n",
    "plt.xlabel('Sample Mean Purchase Amount')\n",
    "plt.ylabel('Frequency')\n",
    "plt.show()\n"
   ]
  },
  {
   "cell_type": "markdown",
   "id": "67ab4ce5-5753-4d21-9ff6-0c12603013cb",
   "metadata": {},
   "source": [
    "1.  **Conclusion:**\n",
    "    \n",
    "2.  The histogram of sample means approximates a normal distribution, demonstrating the Central Limit Theorem, which states that the distribution of sample means will be normal regardless of the original distribution, given a sufficient sample size."
   ]
  },
  {
   "cell_type": "markdown",
   "id": "f893da22-ad98-44af-8a35-7a2e2f476089",
   "metadata": {},
   "source": [
    "Confidence Interval\n",
    "We'll calculate a 95% confidence interval for the mean purchase amount."
   ]
  },
  {
   "cell_type": "code",
   "execution_count": 5,
   "id": "b50b9d98-06cc-475a-82ac-a732301bd635",
   "metadata": {},
   "outputs": [
    {
     "data": {
      "text/plain": [
       "(83.32300800866216, 104.57799199133785)"
      ]
     },
     "execution_count": 5,
     "metadata": {},
     "output_type": "execute_result"
    }
   ],
   "source": [
    "import scipy.stats as stats\n",
    "\n",
    "sample_size = 100\n",
    "sample = data['PurchaseAmount'].sample(sample_size, replace=True)\n",
    "sample_mean = sample.mean()\n",
    "sample_std = sample.std()\n",
    "\n",
    "confidence_level = 0.95\n",
    "z_score = stats.norm.ppf((1 + confidence_level) / 2)\n",
    "margin_of_error = z_score * (sample_std / np.sqrt(sample_size))\n",
    "\n",
    "confidence_interval = (sample_mean - margin_of_error, sample_mean + margin_of_error)\n",
    "confidence_interval\n"
   ]
  },
  {
   "cell_type": "markdown",
   "id": "d47dadd1-f84d-4270-b7ff-1044fd28e747",
   "metadata": {},
   "source": [
    "1.  **Conclusion:**\n",
    "    \n",
    "2.  The 95% confidence interval gives us a range within which we are 95% confident the true mean purchase amount lies. This helps in understanding the precision of our sample mean as an estimate of the population mean."
   ]
  },
  {
   "cell_type": "markdown",
   "id": "08e86b7a-846b-4e29-9b4d-478860d4c55c",
   "metadata": {},
   "source": [
    "1.  **Hypothesis Testing**\n",
    "    \n",
    "2.  We'll perform a hypothesis test to see if the average purchase amount differs between males and females."
   ]
  },
  {
   "cell_type": "code",
   "execution_count": 6,
   "id": "94fc3ead-67cc-45f6-a5a5-740aa280514b",
   "metadata": {},
   "outputs": [
    {
     "data": {
      "text/plain": [
       "(-1.074399004583384, 0.28269576457651013)"
      ]
     },
     "execution_count": 6,
     "metadata": {},
     "output_type": "execute_result"
    }
   ],
   "source": [
    "male_purchases = data[data['Gender'] == 'Male']['PurchaseAmount']\n",
    "female_purchases = data[data['Gender'] == 'Female']['PurchaseAmount']\n",
    "\n",
    "t_stat, p_value = stats.ttest_ind(male_purchases, female_purchases, equal_var=False)\n",
    "t_stat, p_value\n"
   ]
  },
  {
   "cell_type": "markdown",
   "id": "61d7b505-cd86-49a9-af2d-8713f7117684",
   "metadata": {},
   "source": [
    "Conclusion:\n",
    "\n",
    "t-statistic: Indicates the size of the difference relative to the variation in the sample data.\n",
    "p-value: Helps us determine the significance of our results. If the p-value is less than 0.05, we reject the null hypothesis and conclude that there is a significant difference in average purchase amounts between males and females.\n",
    "\n",
    "\n",
    "\n",
    "**Chi-Square Distribution**\n",
    "We'll use the chi-square test to see if there is an association between gender and purchase category.\n",
    "\n"
   ]
  },
  {
   "cell_type": "code",
   "execution_count": 7,
   "id": "07435d02-ac78-4ec7-9e41-3000dab37cbd",
   "metadata": {},
   "outputs": [
    {
     "data": {
      "text/plain": [
       "(1.6184870791911825, 0.9512391217055095, 6)"
      ]
     },
     "execution_count": 7,
     "metadata": {},
     "output_type": "execute_result"
    }
   ],
   "source": [
    "contingency_table = pd.crosstab(data['Gender'], data['PurchaseCategory'])\n",
    "chi2, p, dof, expected = stats.chi2_contingency(contingency_table)\n",
    "chi2, p, dof\n"
   ]
  },
  {
   "cell_type": "markdown",
   "id": "519d83ec-17b3-43de-a75f-83de61eceead",
   "metadata": {},
   "source": [
    "  **Conclusion:**\n",
    "    \n",
    "2.  **Chi-square statistic:**\n",
    "    \n",
    "3.  Measures how expectations compare to actual observed data.\n",
    "    \n",
    "4.  **p-value:** If the p-value is less than 0.05, we reject the null hypothesis and conclude that there is a significant association between gender and purchase category.\n",
    "    \n",
    "5.  Code for Generating Similar Data\n",
    "    \n"
   ]
  },
  {
   "cell_type": "markdown",
   "id": "3efbb626-def0-40d8-b0ca-3a824ac78988",
   "metadata": {},
   "source": [
    "1.  **Correlation Analysis**\n",
    "    \n",
    "2.  We can analyze the correlation between different numerical variables such as age, purchase amount, delivery time, and customer rating."
   ]
  },
  {
   "cell_type": "code",
   "execution_count": 8,
   "id": "895b8758-240b-40fc-b43f-4278babdcd67",
   "metadata": {},
   "outputs": [
    {
     "data": {
      "text/html": [
       "<div>\n",
       "<style scoped>\n",
       "    .dataframe tbody tr th:only-of-type {\n",
       "        vertical-align: middle;\n",
       "    }\n",
       "\n",
       "    .dataframe tbody tr th {\n",
       "        vertical-align: top;\n",
       "    }\n",
       "\n",
       "    .dataframe thead th {\n",
       "        text-align: right;\n",
       "    }\n",
       "</style>\n",
       "<table border=\"1\" class=\"dataframe\">\n",
       "  <thead>\n",
       "    <tr style=\"text-align: right;\">\n",
       "      <th></th>\n",
       "      <th>Age</th>\n",
       "      <th>PurchaseAmount</th>\n",
       "      <th>DeliveryTime</th>\n",
       "      <th>CustomerRating</th>\n",
       "    </tr>\n",
       "  </thead>\n",
       "  <tbody>\n",
       "    <tr>\n",
       "      <th>Age</th>\n",
       "      <td>1.000000</td>\n",
       "      <td>-0.008161</td>\n",
       "      <td>0.001429</td>\n",
       "      <td>0.019850</td>\n",
       "    </tr>\n",
       "    <tr>\n",
       "      <th>PurchaseAmount</th>\n",
       "      <td>-0.008161</td>\n",
       "      <td>1.000000</td>\n",
       "      <td>0.012484</td>\n",
       "      <td>0.020334</td>\n",
       "    </tr>\n",
       "    <tr>\n",
       "      <th>DeliveryTime</th>\n",
       "      <td>0.001429</td>\n",
       "      <td>0.012484</td>\n",
       "      <td>1.000000</td>\n",
       "      <td>0.019639</td>\n",
       "    </tr>\n",
       "    <tr>\n",
       "      <th>CustomerRating</th>\n",
       "      <td>0.019850</td>\n",
       "      <td>0.020334</td>\n",
       "      <td>0.019639</td>\n",
       "      <td>1.000000</td>\n",
       "    </tr>\n",
       "  </tbody>\n",
       "</table>\n",
       "</div>"
      ],
      "text/plain": [
       "                     Age  PurchaseAmount  DeliveryTime  CustomerRating\n",
       "Age             1.000000       -0.008161      0.001429        0.019850\n",
       "PurchaseAmount -0.008161        1.000000      0.012484        0.020334\n",
       "DeliveryTime    0.001429        0.012484      1.000000        0.019639\n",
       "CustomerRating  0.019850        0.020334      0.019639        1.000000"
      ]
     },
     "execution_count": 8,
     "metadata": {},
     "output_type": "execute_result"
    }
   ],
   "source": [
    "correlation_matrix = data[['Age', 'PurchaseAmount', 'DeliveryTime', 'CustomerRating']].corr()\n",
    "correlation_matrix\n"
   ]
  },
  {
   "cell_type": "markdown",
   "id": "52e90523-c6ff-44af-8fae-ebe0c936e6ea",
   "metadata": {},
   "source": [
    "1.  **Conclusion:**\n",
    "    \n",
    "2.  The correlation matrix will show the strength and direction of the relationships between these variables. For instance, a high positive correlation between age and purchase amount would indicate that older customers tend to spend more."
   ]
  },
  {
   "cell_type": "markdown",
   "id": "d8fd5a3b-9de4-4666-9cb8-ab92bdce93bf",
   "metadata": {},
   "source": [
    "1.  **ANOVA (Analysis of Variance)**\n",
    "    \n",
    "2.  We can use ANOVA to determine if there are significant differences in the average purchase amounts across different purchase categories."
   ]
  },
  {
   "cell_type": "code",
   "execution_count": 9,
   "id": "8602687c-2d38-491d-b851-5d9a5893a024",
   "metadata": {},
   "outputs": [
    {
     "data": {
      "text/plain": [
       "F_onewayResult(statistic=1.2480390699101862, pvalue=0.2782592655115104)"
      ]
     },
     "execution_count": 9,
     "metadata": {},
     "output_type": "execute_result"
    }
   ],
   "source": [
    "anova_results = stats.f_oneway(\n",
    "    data[data['PurchaseCategory'] == 'Electronics']['PurchaseAmount'],\n",
    "    data[data['PurchaseCategory'] == 'Clothing']['PurchaseAmount'],\n",
    "    data[data['PurchaseCategory'] == 'Grocery']['PurchaseAmount'],\n",
    "    data[data['PurchaseCategory'] == 'Beauty']['PurchaseAmount'],\n",
    "    data[data['PurchaseCategory'] == 'Books']['PurchaseAmount'],\n",
    "    data[data['PurchaseCategory'] == 'Furniture']['PurchaseAmount'],\n",
    "    data[data['PurchaseCategory'] == 'Sports']['PurchaseAmount']\n",
    ")\n",
    "anova_results\n"
   ]
  },
  {
   "cell_type": "markdown",
   "id": "6dd8ceca-ca18-430c-8961-3cd941519190",
   "metadata": {},
   "source": [
    "**Conclusion:**\r\n",
    "\r\n",
    "*   **F-statistic and p-value:** If the p-value is less than 0.05, we reject the null hypothesis and conclude that there are significant differences in average purchase amounts across different purchase categories.\r\n",
    "    \r\n",
    "\r\n",
    "1.  **Regression Analysis**\r\n",
    "    \r\n",
    "\r\n",
    "We can perform a multiple regression analysis to understand how various factors influence the purchase amount.mount. amount."
   ]
  },
  {
   "cell_type": "code",
   "execution_count": 10,
   "id": "fb0226d2-9667-49f0-82f2-b34a307d5420",
   "metadata": {},
   "outputs": [
    {
     "data": {
      "text/html": [
       "<table class=\"simpletable\">\n",
       "<caption>OLS Regression Results</caption>\n",
       "<tr>\n",
       "  <th>Dep. Variable:</th>     <td>PurchaseAmount</td>  <th>  R-squared:         </th> <td>   0.001</td> \n",
       "</tr>\n",
       "<tr>\n",
       "  <th>Model:</th>                   <td>OLS</td>       <th>  Adj. R-squared:    </th> <td>   0.000</td> \n",
       "</tr>\n",
       "<tr>\n",
       "  <th>Method:</th>             <td>Least Squares</td>  <th>  F-statistic:       </th> <td>   1.055</td> \n",
       "</tr>\n",
       "<tr>\n",
       "  <th>Date:</th>             <td>Wed, 22 May 2024</td> <th>  Prob (F-statistic):</th>  <td> 0.367</td>  \n",
       "</tr>\n",
       "<tr>\n",
       "  <th>Time:</th>                 <td>14:00:45</td>     <th>  Log-Likelihood:    </th> <td> -26750.</td> \n",
       "</tr>\n",
       "<tr>\n",
       "  <th>No. Observations:</th>      <td>  5000</td>      <th>  AIC:               </th> <td>5.351e+04</td>\n",
       "</tr>\n",
       "<tr>\n",
       "  <th>Df Residuals:</th>          <td>  4996</td>      <th>  BIC:               </th> <td>5.353e+04</td>\n",
       "</tr>\n",
       "<tr>\n",
       "  <th>Df Model:</th>              <td>     3</td>      <th>                     </th>     <td> </td>    \n",
       "</tr>\n",
       "<tr>\n",
       "  <th>Covariance Type:</th>      <td>nonrobust</td>    <th>                     </th>     <td> </td>    \n",
       "</tr>\n",
       "</table>\n",
       "<table class=\"simpletable\">\n",
       "<tr>\n",
       "         <td></td>           <th>coef</th>     <th>std err</th>      <th>t</th>      <th>P>|t|</th>  <th>[0.025</th>    <th>0.975]</th>  \n",
       "</tr>\n",
       "<tr>\n",
       "  <th>const</th>          <td>   96.8829</td> <td>    3.026</td> <td>   32.013</td> <td> 0.000</td> <td>   90.950</td> <td>  102.816</td>\n",
       "</tr>\n",
       "<tr>\n",
       "  <th>Age</th>            <td>   -0.0293</td> <td>    0.048</td> <td>   -0.607</td> <td> 0.544</td> <td>   -0.124</td> <td>    0.065</td>\n",
       "</tr>\n",
       "<tr>\n",
       "  <th>DeliveryTime</th>   <td>    0.2412</td> <td>    0.282</td> <td>    0.855</td> <td> 0.392</td> <td>   -0.312</td> <td>    0.794</td>\n",
       "</tr>\n",
       "<tr>\n",
       "  <th>CustomerRating</th> <td>    0.7331</td> <td>    0.512</td> <td>    1.432</td> <td> 0.152</td> <td>   -0.270</td> <td>    1.736</td>\n",
       "</tr>\n",
       "</table>\n",
       "<table class=\"simpletable\">\n",
       "<tr>\n",
       "  <th>Omnibus:</th>       <td> 0.062</td> <th>  Durbin-Watson:     </th> <td>   2.031</td>\n",
       "</tr>\n",
       "<tr>\n",
       "  <th>Prob(Omnibus):</th> <td> 0.969</td> <th>  Jarque-Bera (JB):  </th> <td>   0.048</td>\n",
       "</tr>\n",
       "<tr>\n",
       "  <th>Skew:</th>          <td>-0.007</td> <th>  Prob(JB):          </th> <td>   0.976</td>\n",
       "</tr>\n",
       "<tr>\n",
       "  <th>Kurtosis:</th>      <td> 3.008</td> <th>  Cond. No.          </th> <td>    196.</td>\n",
       "</tr>\n",
       "</table><br/><br/>Notes:<br/>[1] Standard Errors assume that the covariance matrix of the errors is correctly specified."
      ],
      "text/latex": [
       "\\begin{center}\n",
       "\\begin{tabular}{lclc}\n",
       "\\toprule\n",
       "\\textbf{Dep. Variable:}    &  PurchaseAmount  & \\textbf{  R-squared:         } &     0.001   \\\\\n",
       "\\textbf{Model:}            &       OLS        & \\textbf{  Adj. R-squared:    } &     0.000   \\\\\n",
       "\\textbf{Method:}           &  Least Squares   & \\textbf{  F-statistic:       } &     1.055   \\\\\n",
       "\\textbf{Date:}             & Wed, 22 May 2024 & \\textbf{  Prob (F-statistic):} &    0.367    \\\\\n",
       "\\textbf{Time:}             &     14:00:45     & \\textbf{  Log-Likelihood:    } &   -26750.   \\\\\n",
       "\\textbf{No. Observations:} &        5000      & \\textbf{  AIC:               } & 5.351e+04   \\\\\n",
       "\\textbf{Df Residuals:}     &        4996      & \\textbf{  BIC:               } & 5.353e+04   \\\\\n",
       "\\textbf{Df Model:}         &           3      & \\textbf{                     } &             \\\\\n",
       "\\textbf{Covariance Type:}  &    nonrobust     & \\textbf{                     } &             \\\\\n",
       "\\bottomrule\n",
       "\\end{tabular}\n",
       "\\begin{tabular}{lcccccc}\n",
       "                        & \\textbf{coef} & \\textbf{std err} & \\textbf{t} & \\textbf{P$> |$t$|$} & \\textbf{[0.025} & \\textbf{0.975]}  \\\\\n",
       "\\midrule\n",
       "\\textbf{const}          &      96.8829  &        3.026     &    32.013  &         0.000        &       90.950    &      102.816     \\\\\n",
       "\\textbf{Age}            &      -0.0293  &        0.048     &    -0.607  &         0.544        &       -0.124    &        0.065     \\\\\n",
       "\\textbf{DeliveryTime}   &       0.2412  &        0.282     &     0.855  &         0.392        &       -0.312    &        0.794     \\\\\n",
       "\\textbf{CustomerRating} &       0.7331  &        0.512     &     1.432  &         0.152        &       -0.270    &        1.736     \\\\\n",
       "\\bottomrule\n",
       "\\end{tabular}\n",
       "\\begin{tabular}{lclc}\n",
       "\\textbf{Omnibus:}       &  0.062 & \\textbf{  Durbin-Watson:     } &    2.031  \\\\\n",
       "\\textbf{Prob(Omnibus):} &  0.969 & \\textbf{  Jarque-Bera (JB):  } &    0.048  \\\\\n",
       "\\textbf{Skew:}          & -0.007 & \\textbf{  Prob(JB):          } &    0.976  \\\\\n",
       "\\textbf{Kurtosis:}      &  3.008 & \\textbf{  Cond. No.          } &     196.  \\\\\n",
       "\\bottomrule\n",
       "\\end{tabular}\n",
       "%\\caption{OLS Regression Results}\n",
       "\\end{center}\n",
       "\n",
       "Notes: \\newline\n",
       " [1] Standard Errors assume that the covariance matrix of the errors is correctly specified."
      ],
      "text/plain": [
       "<class 'statsmodels.iolib.summary.Summary'>\n",
       "\"\"\"\n",
       "                            OLS Regression Results                            \n",
       "==============================================================================\n",
       "Dep. Variable:         PurchaseAmount   R-squared:                       0.001\n",
       "Model:                            OLS   Adj. R-squared:                  0.000\n",
       "Method:                 Least Squares   F-statistic:                     1.055\n",
       "Date:                Wed, 22 May 2024   Prob (F-statistic):              0.367\n",
       "Time:                        14:00:45   Log-Likelihood:                -26750.\n",
       "No. Observations:                5000   AIC:                         5.351e+04\n",
       "Df Residuals:                    4996   BIC:                         5.353e+04\n",
       "Df Model:                           3                                         \n",
       "Covariance Type:            nonrobust                                         \n",
       "==================================================================================\n",
       "                     coef    std err          t      P>|t|      [0.025      0.975]\n",
       "----------------------------------------------------------------------------------\n",
       "const             96.8829      3.026     32.013      0.000      90.950     102.816\n",
       "Age               -0.0293      0.048     -0.607      0.544      -0.124       0.065\n",
       "DeliveryTime       0.2412      0.282      0.855      0.392      -0.312       0.794\n",
       "CustomerRating     0.7331      0.512      1.432      0.152      -0.270       1.736\n",
       "==============================================================================\n",
       "Omnibus:                        0.062   Durbin-Watson:                   2.031\n",
       "Prob(Omnibus):                  0.969   Jarque-Bera (JB):                0.048\n",
       "Skew:                          -0.007   Prob(JB):                        0.976\n",
       "Kurtosis:                       3.008   Cond. No.                         196.\n",
       "==============================================================================\n",
       "\n",
       "Notes:\n",
       "[1] Standard Errors assume that the covariance matrix of the errors is correctly specified.\n",
       "\"\"\""
      ]
     },
     "execution_count": 10,
     "metadata": {},
     "output_type": "execute_result"
    }
   ],
   "source": [
    "import statsmodels.api as sm\n",
    "\n",
    "# Prepare the data for regression\n",
    "X = data[['Age', 'DeliveryTime', 'CustomerRating']]\n",
    "X = sm.add_constant(X)  # Adds a constant term to the predictor\n",
    "y = data['PurchaseAmount']\n",
    "\n",
    "# Fit the regression model\n",
    "model = sm.OLS(y, X).fit()\n",
    "model_summary = model.summary()\n",
    "model_summary\n"
   ]
  },
  {
   "cell_type": "markdown",
   "id": "6edb6d09-6428-416c-8288-b1e603ec9c56",
   "metadata": {},
   "source": [
    "**Conclusion:**\n",
    "\n",
    "*   The regression coefficients will show the impact of each variable on the purchase amount. The p-values indicate the significance of each predictor.\n",
    "    \n",
    "\n",
    "1.  **Time Series Analysis**\n",
    "    \n",
    "\n",
    "We can analyze purchase trends over time to identify any seasonal patterns or trends."
   ]
  },
  {
   "cell_type": "code",
   "execution_count": 11,
   "id": "dd0f9f99-8648-45f4-aa37-4d021e0e9517",
   "metadata": {},
   "outputs": [
    {
     "data": {
      "image/png": "[encoded data removed]",
      "text/plain": [
       "<Figure size 1000x500 with 1 Axes>"
      ]
     },
     "metadata": {},
     "output_type": "display_data"
    }
   ],
   "source": [
    "data['PurchaseDate'] = pd.to_datetime(data['PurchaseDate'])\n",
    "data.set_index('PurchaseDate', inplace=True)\n",
    "monthly_sales = data['PurchaseAmount'].resample('M').sum()\n",
    "\n",
    "# Plotting the time series\n",
    "plt.figure(figsize=(10, 5))\n",
    "plt.plot(monthly_sales, marker='o')\n",
    "plt.title('Monthly Sales Trend')\n",
    "plt.xlabel('Month')\n",
    "plt.ylabel('Total Purchase Amount')\n",
    "plt.show()\n"
   ]
  },
  {
   "cell_type": "markdown",
   "id": "b12ce49f-b988-4b7d-8ffe-4bcc43a9023a",
   "metadata": {},
   "source": [
    "**Conclusion:**\n",
    "\n",
    "*   The time series plot will show how total purchase amounts change over time, helping to identify any seasonal patterns or trends."
   ]
  },
  {
   "cell_type": "markdown",
   "id": "8223fd1c-1bdb-4344-9a4b-8920155e2ec8",
   "metadata": {},
   "source": [
    "1.  **Cluster Analysis**\n",
    "    \n",
    "\n",
    "We can perform clustering to segment customers into different groups based on their purchase behavior."
   ]
  },
  {
   "cell_type": "code",
   "execution_count": 12,
   "id": "c8d1329e-305a-4028-994b-4ee227f8fe4f",
   "metadata": {},
   "outputs": [
    {
     "name": "stderr",
     "output_type": "stream",
     "text": [
      "C:\\Users\\Shubhankit\\AppData\\Local\\Programs\\Python\\Python311\\Lib\\site-packages\\sklearn\\cluster\\_kmeans.py:870: FutureWarning: The default value of `n_init` will change from 10 to 'auto' in 1.4. Set the value of `n_init` explicitly to suppress the warning\n",
      "  warnings.warn(\n",
      "C:\\Users\\Shubhankit\\AppData\\Local\\Temp\\ipykernel_10692\\3241429344.py:9: FutureWarning: The default value of numeric_only in DataFrameGroupBy.mean is deprecated. In a future version, numeric_only will default to False. Either specify numeric_only or select only columns which should be valid for the function.\n",
      "  cluster_summary = data.groupby('Cluster').mean()\n"
     ]
    },
    {
     "data": {
      "text/html": [
       "<div>\n",
       "<style scoped>\n",
       "    .dataframe tbody tr th:only-of-type {\n",
       "        vertical-align: middle;\n",
       "    }\n",
       "\n",
       "    .dataframe tbody tr th {\n",
       "        vertical-align: top;\n",
       "    }\n",
       "\n",
       "    .dataframe thead th {\n",
       "        text-align: right;\n",
       "    }\n",
       "</style>\n",
       "<table border=\"1\" class=\"dataframe\">\n",
       "  <thead>\n",
       "    <tr style=\"text-align: right;\">\n",
       "      <th></th>\n",
       "      <th>CustomerID</th>\n",
       "      <th>Age</th>\n",
       "      <th>PurchaseAmount</th>\n",
       "      <th>DeliveryTime</th>\n",
       "      <th>CustomerRating</th>\n",
       "    </tr>\n",
       "    <tr>\n",
       "      <th>Cluster</th>\n",
       "      <th></th>\n",
       "      <th></th>\n",
       "      <th></th>\n",
       "      <th></th>\n",
       "      <th></th>\n",
       "    </tr>\n",
       "  </thead>\n",
       "  <tbody>\n",
       "    <tr>\n",
       "      <th>0</th>\n",
       "      <td>2483.697714</td>\n",
       "      <td>42.524979</td>\n",
       "      <td>58.820720</td>\n",
       "      <td>5.020322</td>\n",
       "      <td>3.006774</td>\n",
       "    </tr>\n",
       "    <tr>\n",
       "      <th>1</th>\n",
       "      <td>2569.882682</td>\n",
       "      <td>42.891993</td>\n",
       "      <td>186.964469</td>\n",
       "      <td>4.970205</td>\n",
       "      <td>3.137803</td>\n",
       "    </tr>\n",
       "    <tr>\n",
       "      <th>2</th>\n",
       "      <td>2479.645395</td>\n",
       "      <td>44.328947</td>\n",
       "      <td>97.393993</td>\n",
       "      <td>5.067105</td>\n",
       "      <td>3.077632</td>\n",
       "    </tr>\n",
       "    <tr>\n",
       "      <th>3</th>\n",
       "      <td>2489.497030</td>\n",
       "      <td>44.702970</td>\n",
       "      <td>9.387248</td>\n",
       "      <td>4.821782</td>\n",
       "      <td>2.914851</td>\n",
       "    </tr>\n",
       "    <tr>\n",
       "      <th>4</th>\n",
       "      <td>2516.284010</td>\n",
       "      <td>43.526651</td>\n",
       "      <td>137.279761</td>\n",
       "      <td>5.115354</td>\n",
       "      <td>3.000796</td>\n",
       "    </tr>\n",
       "  </tbody>\n",
       "</table>\n",
       "</div>"
      ],
      "text/plain": [
       "          CustomerID        Age  PurchaseAmount  DeliveryTime  CustomerRating\n",
       "Cluster                                                                      \n",
       "0        2483.697714  42.524979       58.820720      5.020322        3.006774\n",
       "1        2569.882682  42.891993      186.964469      4.970205        3.137803\n",
       "2        2479.645395  44.328947       97.393993      5.067105        3.077632\n",
       "3        2489.497030  44.702970        9.387248      4.821782        2.914851\n",
       "4        2516.284010  43.526651      137.279761      5.115354        3.000796"
      ]
     },
     "execution_count": 12,
     "metadata": {},
     "output_type": "execute_result"
    }
   ],
   "source": [
    "from sklearn.cluster import KMeans\n",
    "\n",
    "# Select features for clustering\n",
    "features = data[['Age', 'PurchaseAmount', 'DeliveryTime', 'CustomerRating']]\n",
    "kmeans = KMeans(n_clusters=5, random_state=42)\n",
    "data['Cluster'] = kmeans.fit_predict(features)\n",
    "\n",
    "# Analyze the clusters\n",
    "cluster_summary = data.groupby('Cluster').mean()\n",
    "cluster_summary\n"
   ]
  },
  {
   "cell_type": "markdown",
   "id": "e2a32a26-5f94-42e9-a676-0cd975111bb9",
   "metadata": {},
   "source": [
    "**Conclusion:**\n",
    "\n",
    "*   Clustering will group customers with similar purchase behaviors, helping the business tailor marketing strategies to different customer segments.\n",
    "    \n",
    "\n",
    "1.  **Chi-Square Test for Independence**\n",
    "    \n",
    "\n",
    "We can use the chi-square test to check if there is an association between payment method and purchase category."
   ]
  },
  {
   "cell_type": "code",
   "execution_count": 13,
   "id": "b8f35572-9f9f-48f7-a152-7d54ee399e02",
   "metadata": {},
   "outputs": [
    {
     "data": {
      "text/plain": [
       "(22.94081399944309, 0.52329430051325, 24)"
      ]
     },
     "execution_count": 13,
     "metadata": {},
     "output_type": "execute_result"
    }
   ],
   "source": [
    "contingency_table = pd.crosstab(data['PaymentMethod'], data['PurchaseCategory'])\n",
    "chi2, p, dof, expected = stats.chi2_contingency(contingency_table)\n",
    "chi2, p, dof\n"
   ]
  },
  {
   "cell_type": "markdown",
   "id": "6494865f-3d91-423f-9855-27dc5088d467",
   "metadata": {},
   "source": [
    "**Conclusion:**\n",
    "\n",
    "*   **Chi-square statistic and p-value:** If the p-value is less than 0.05, we reject the null hypothesis and conclude that there is a significant association between payment method and purchase category.\n",
    "    \n",
    "\n",
    "These additional analyses provide a comprehensive toolkit for understanding customer behavior and making data-driven decisions in an e-commerce context."
   ]
  },
  {
   "cell_type": "markdown",
   "id": "8f7bb795-cb47-4095-b5cd-623c59c5b9d1",
   "metadata": {},
   "source": [
    "1.  **Measures of Central Tendencies**\r\n",
    "    \r\n",
    "    *   Mean Purchase Amount: \\[mean\\_purchase\\]\r\n",
    "        \r\n",
    "    *   Median Purchase Amount: \\[median\\_purchase\\]\r\n",
    "        \r\n",
    "    *   Mode Purchase Amount: \\[mode\\_purchase\\]\r\n",
    "        \r\n",
    "2.  **Central Limit Theorem (CLT)**\r\n",
    "    \r\n",
    "    *   The histogram of sample means approximates a normal distribution, demonstrating the Central Limit Theorem.\r\n",
    "        \r\n",
    "3.  **Confidence Interval**\r\n",
    "    \r\n",
    "    *   The 95% confidence interval for the mean purchase amount is: \\[confidence\\_interval\\]\r\n",
    "        \r\n",
    "4.  **Hypothesis Testing**\r\n",
    "    \r\n",
    "    *   t-statistic for difference in average purchase amount between males and females: \\[t\\_stat\\]\r\n",
    "        \r\n",
    "    *   p-value for difference in average purchase amount between males and females: \\[p\\_value\\]\r\n",
    "        \r\n",
    "5.  **Chi-Square Test for Gender and Purchase Category**\r\n",
    "    \r\n",
    "    *   Chi-square statistic: \\[chi2\\]\r\n",
    "        \r\n",
    "    *   p-value for the association between gender and purchase category: \\[p\\]\r\n",
    "        \r\n",
    "6.  **Correlation Analysis**\r\n",
    "    \r\n",
    "    *   Correlation matrix for Age, Purchase Amount, Delivery Time, and Customer Rating: \\[correlation\\_matrix\\]\r\n",
    "        \r\n",
    "7.  **ANOVA (Analysis of Variance)**\r\n",
    "    \r\n",
    "    *   F-statistic for differences in average purchase amounts across purchase categories: \\[anova\\_results.statistic\\]\r\n",
    "        \r\n",
    "    *   p-value for differences in average purchase amounts across purchase categories: \\[anova\\_results.pvalue\\]\r\n",
    "        \r\n",
    "8.  **Regression Analysis**\r\n",
    "    \r\n",
    "    *   Summary of regression analysis for factors influencing purchase amount: \\[model\\_summary\\]\r\n",
    "        \r\n",
    "9.  **Time Series Analysis**\r\n",
    "    \r\n",
    "    *   Monthly sales trend plot: \\[monthly\\_sales\\_plot\\]\r\n",
    "        \r\n",
    "10.  **Cluster Analysis**\r\n",
    "    \r\n",
    "    *   Summary of clusters based on Age, Purchase Amount, Delivery Time, and Customer Rating: \\[cluster\\_summary\\]\r\n",
    "        \r\n",
    "11.  **Chi-Square Test for Payment Method and Purchase Category**\r\n",
    "    \r\n",
    "    *   Chi-square statistic for payment method and purchase category: \\[chi2\\_payment\\_method\\]\r\n",
    "        \r\n",
    "    *   p-value for the association between payment method and purchase category: \\[p\\_payment\\_method\\]"
   ]
  },
  {
   "cell_type": "code",
   "execution_count": null,
   "id": "31c25a81-f258-4593-92cb-fbe0a58fe3cb",
   "metadata": {},
   "outputs": [],
   "source": []
  }
 ],
 "metadata": {
  "kernelspec": {
   "display_name": "Python 3 (ipykernel)",
   "language": "python",
   "name": "python3"
  },
  "language_info": {
   "codemirror_mode": {
    "name": "ipython",
    "version": 3
   },
   "file_extension": ".py",
   "mimetype": "text/x-python",
   "name": "python",
   "nbconvert_exporter": "python",
   "pygments_lexer": "ipython3",
   "version": "3.11.6"
  }
 },
 "nbformat": 4,
 "nbformat_minor": 5
}
