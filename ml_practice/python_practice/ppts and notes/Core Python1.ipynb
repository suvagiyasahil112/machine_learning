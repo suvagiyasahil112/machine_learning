{
 "cells": [
  {
   "cell_type": "code",
   "execution_count": 3,
   "id": "6e6738",
   "metadata": {
    "collapsed": false
   },
   "outputs": [
    {
     "name": "stdout",
     "output_type": "stream",
     "text": [
      "Hello Spectrics Solutions\n"
     ]
    }
   ],
   "source": [
    "print(\"Hello Spectrics Solutions\")"
   ]
  },
  {
   "cell_type": "code",
   "execution_count": 4,
   "id": "8c6a8a",
   "metadata": {
    "collapsed": false
   },
   "outputs": [
    {
     "name": "stdout",
     "output_type": "stream",
     "text": [
      "Hello, code!\n"
     ]
    }
   ],
   "source": [
    "#print(\"Hello, spectrics!\")\n",
    "print(\"Hello, code!\")"
   ]
  },
  {
   "cell_type": "code",
   "execution_count": 5,
   "id": "90d533",
   "metadata": {
    "collapsed": false
   },
   "outputs": [
    {
     "name": "stdout",
     "output_type": "stream",
     "text": [
      "[1 2 3 4 5]\n"
     ]
    }
   ],
   "source": [
    "import numpy as np\n",
    "\n",
    "arr = np.array([1, 2, 3, 4, 5])\n",
    "\n",
    "print(arr)"
   ]
  },
  {
   "cell_type": "code",
   "execution_count": 13,
   "id": "836780",
   "metadata": {
    "collapsed": false
   },
   "outputs": [
    {
     "name": "stdout",
     "output_type": "stream",
     "text": [
      "2\n"
     ]
    }
   ],
   "source": [
    "print(arr[1])"
   ]
  },
  {
   "cell_type": "code",
   "execution_count": 8,
   "id": "6a2a39",
   "metadata": {
    "collapsed": false
   },
   "outputs": [
    {
     "data": {
      "text/plain": [
       "numpy.ndarray"
      ]
     },
     "execution_count": 8,
     "metadata": {},
     "output_type": "execute_result"
    }
   ],
   "source": [
    "type(arr)"
   ]
  },
  {
   "cell_type": "code",
   "execution_count": 9,
   "id": "eb67d2",
   "metadata": {
    "collapsed": false
   },
   "outputs": [
    {
     "name": "stdout",
     "output_type": "stream",
     "text": [
      "1D Array:\n",
      "[1 2 3 4 5]\n",
      "2D Array:\n",
      "[[1 2 3]\n",
      " [4 5 6]]\n"
     ]
    }
   ],
   "source": [
    "import numpy as np\n",
    "\n",
    "# Creating arrays\n",
    "arr_1d = np.array([1, 2, 3, 4, 5])  # 1D array\n",
    "arr_2d = np.array([[1, 2, 3], [4, 5, 6]])  # 2D array\n",
    "\n",
    "print(\"1D Array:\")\n",
    "print(arr_1d)\n",
    "print(\"2D Array:\")\n",
    "print(arr_2d)"
   ]
  },
  {
   "cell_type": "code",
   "execution_count": 10,
   "id": "0504d9",
   "metadata": {
    "collapsed": false
   },
   "outputs": [
    {
     "name": "stdout",
     "output_type": "stream",
     "text": [
      "\n",
      "Array After Addition:\n",
      "[3 4 5 6 7]\n",
      "Array After Multiplication:\n",
      "[[ 2  4  6]\n",
      " [ 8 10 12]]\n"
     ]
    }
   ],
   "source": [
    "# Arithmetic operations\n",
    "addition = arr_1d + 2  # Add 2 to each element\n",
    "multiplication = arr_2d * 2  # Multiply each element by 2\n",
    "\n",
    "print(\"\\nArray After Addition:\")\n",
    "print(addition)\n",
    "print(\"Array After Multiplication:\")\n",
    "print(multiplication)"
   ]
  },
  {
   "cell_type": "code",
   "execution_count": 11,
   "id": "b69a8b",
   "metadata": {
    "collapsed": false
   },
   "outputs": [
    {
     "name": "stdout",
     "output_type": "stream",
     "text": [
      "\n",
      "Element at index 2 in 1D Array:\n",
      "3\n",
      "Element at row 1 column 2 in 2D Array:\n",
      "6\n"
     ]
    }
   ],
   "source": [
    "# Accessing elements\n",
    "print(\"\\nElement at index 2 in 1D Array:\")\n",
    "\n",
    "print(arr_1d[2])  # Access third element of 1D array\n",
    "print(\"Element at row 1 column 2 in 2D Array:\")\n",
    "print(arr_2d[1, 2])  # Access element from second row, third column\n"
   ]
  },
  {
   "cell_type": "code",
   "execution_count": 12,
   "id": "328f11",
   "metadata": {
    "collapsed": false
   },
   "outputs": [
    {
     "name": "stdout",
     "output_type": "stream",
     "text": [
      "\n",
      "Sliced Array from 1D Array:\n",
      "[2 3 4]\n"
     ]
    }
   ],
   "source": [
    "# Slicing\n",
    "print(\"\\nSliced Array from 1D Array:\")\n",
    "print(arr_1d[1:4])  # Slice from index 1 to 3"
   ]
  },
  {
   "cell_type": "code",
   "execution_count": 15,
   "id": "856d6b",
   "metadata": {
    "collapsed": false
   },
   "outputs": [
    {
     "name": "stdout",
     "output_type": "stream",
     "text": [
      "\n",
      "Reshaped 2D Array (3x2):\n",
      "[[1 2]\n",
      " [3 4]\n",
      " [5 6]]\n"
     ]
    }
   ],
   "source": [
    "# Reshaping arrays\n",
    "reshaped_array = np.reshape(arr_2d, (3,2))\n",
    "print(\"\\nReshaped 2D Array (3x2):\")\n",
    "print(reshaped_array)\n"
   ]
  },
  {
   "cell_type": "code",
   "execution_count": 16,
   "id": "099a8f",
   "metadata": {
    "collapsed": false
   },
   "outputs": [
    {
     "name": "stdout",
     "output_type": "stream",
     "text": [
      "\n",
      "Statistics:\n",
      "Mean of 1D Array: 3.0\n",
      "Maximum in 2D Array: 6\n",
      "Standard Deviation of 1D Array: 1.4142135623730951\n"
     ]
    }
   ],
   "source": [
    "# Statistical functions\n",
    "mean_value = np.mean(arr_1d)\n",
    "max_value = np.max(arr_2d)\n",
    "std_dev = np.std(arr_1d)\n",
    "\n",
    "\n",
    "\n",
    "print(\"\\nStatistics:\")\n",
    "print(\"Mean of 1D Array:\", mean_value)\n",
    "print(\"Maximum in 2D Array:\", max_value)\n",
    "print(\"Standard Deviation of 1D Array:\", std_dev)"
   ]
  },
  {
   "cell_type": "code",
   "execution_count": 17,
   "id": "b13168",
   "metadata": {
    "collapsed": false
   },
   "outputs": [
    {
     "name": "stdout",
     "output_type": "stream",
     "text": [
      "\n",
      "Special Arrays:\n",
      "Zeros Array:\n",
      "[[0. 0. 0.]\n",
      " [0. 0. 0.]]\n",
      "Ones Array:\n",
      "[[1. 1.]\n",
      " [1. 1.]\n",
      " [1. 1.]]\n",
      "Identity Matrix:\n",
      "[[1. 0. 0.]\n",
      " [0. 1. 0.]\n",
      " [0. 0. 1.]]\n"
     ]
    }
   ],
   "source": [
    "# Creating specialized arrays\n",
    "zeros_array = np.zeros((2, 3))  # 2x3 array of zeros\n",
    "ones_array = np.ones((3, 2))  # 3x2 array of ones\n",
    "identity_matrix = np.eye(3)  # 3x3 identity matrix\n",
    "\n",
    "print(\"\\nSpecial Arrays:\")\n",
    "print(\"Zeros Array:\")\n",
    "print(zeros_array)\n",
    "print(\"Ones Array:\")\n",
    "print(ones_array)\n",
    "print(\"Identity Matrix:\")\n",
    "print(identity_matrix)"
   ]
  },
  {
   "cell_type": "code",
   "execution_count": 18,
   "id": "c17a54",
   "metadata": {
    "collapsed": false
   },
   "outputs": [
    {
     "name": "stdout",
     "output_type": "stream",
     "text": [
      "Original Array: [10 20 30]\n",
      "Copy Array: [99 20 30]\n"
     ]
    }
   ],
   "source": [
    "import numpy as np\n",
    "\n",
    "original = np.array([10, 20, 30])\n",
    "copy_array = original.copy()\n",
    "\n",
    "copy_array[0] = 99  # Modify the copy\n",
    "print(\"Original Array:\", original)  # Unchanged\n",
    "print(\"Copy Array:\", copy_array)    # Modified"
   ]
  },
  {
   "cell_type": "code",
   "execution_count": 19,
   "id": "a90df3",
   "metadata": {
    "collapsed": false
   },
   "outputs": [
    {
     "name": "stdout",
     "output_type": "stream",
     "text": [
      "Original Array: [99 20 30]\n",
      "View Array: [99 20 30]\n"
     ]
    }
   ],
   "source": [
    "import numpy as np\n",
    "\n",
    "original = np.array([10, 20, 30])\n",
    "view_array = original.view()\n",
    "\n",
    "view_array[0] = 99  # Modify the view\n",
    "print(\"Original Array:\", original)  # Affected\n",
    "print(\"View Array:\", view_array)    # Modified\n"
   ]
  },
  {
   "cell_type": "code",
   "execution_count": 20,
   "id": "f1ece0",
   "metadata": {
    "collapsed": false
   },
   "outputs": [
    {
     "name": "stdout",
     "output_type": "stream",
     "text": [
      "(2, 3)\n"
     ]
    }
   ],
   "source": [
    "arr = np.array([[1, 2, 3], [4, 5, 6]])\n",
    "print(arr.shape)  #shape"
   ]
  },
  {
   "cell_type": "code",
   "execution_count": 21,
   "id": "52d431",
   "metadata": {
    "collapsed": false
   },
   "outputs": [
    {
     "name": "stdout",
     "output_type": "stream",
     "text": [
      "[1 2 3 4 5 6]\n"
     ]
    }
   ],
   "source": [
    "import numpy as np\n",
    "\n",
    "arr1 = np.array([1, 2, 3])\n",
    "arr2 = np.array([4, 5, 6])\n",
    "result = np.concatenate((arr1, arr2))\n",
    "print(result) "
   ]
  },
  {
   "cell_type": "code",
   "execution_count": 22,
   "id": "f35d24",
   "metadata": {
    "collapsed": false
   },
   "outputs": [
    {
     "name": "stdout",
     "output_type": "stream",
     "text": [
      "[[1 2]\n",
      " [3 4]\n",
      " [5 6]]\n"
     ]
    }
   ],
   "source": [
    "#The concatenate() function joins arrays along an existing axis.\n",
    "arr1 = np.array([[1, 2], [3, 4]])\n",
    "arr2 = np.array([[5, 6]])\n",
    "result = np.concatenate((arr1, arr2), axis=0)\n",
    "print(result)\n",
    "# Output:\n",
    "# [[1 2]\n",
    "#  [3 4]\n",
    "#  [5 6]]\n"
   ]
  },
  {
   "cell_type": "code",
   "execution_count": 23,
   "id": "220583",
   "metadata": {
    "collapsed": false
   },
   "outputs": [
    {
     "name": "stdout",
     "output_type": "stream",
     "text": [
      "[[1 2 3]\n",
      " [4 5 6]]\n"
     ]
    }
   ],
   "source": [
    "#The stack() function joins arrays along a new axis.\n",
    "arr1 = np.array([1, 2, 3])\n",
    "arr2 = np.array([4, 5, 6])\n",
    "result = np.stack((arr1, arr2), axis=0)  # Stack as rows\n",
    "print(result)"
   ]
  },
  {
   "cell_type": "code",
   "execution_count": 24,
   "id": "ad060b",
   "metadata": {
    "collapsed": false
   },
   "outputs": [
    {
     "name": "stdout",
     "output_type": "stream",
     "text": [
      "[[1 4]\n",
      " [2 5]\n",
      " [3 6]]\n"
     ]
    }
   ],
   "source": [
    "result = np.stack((arr1, arr2), axis=1)  # Stack as columns\n",
    "print(result)"
   ]
  },
  {
   "cell_type": "code",
   "execution_count": 25,
   "id": "bc010d",
   "metadata": {
    "collapsed": false
   },
   "outputs": [
    {
     "name": "stdout",
     "output_type": "stream",
     "text": [
      "[1 2 3 4 5 6]\n"
     ]
    }
   ],
   "source": [
    "#The hstack() function stacks arrays horizontally (column-wise).\n",
    "arr1 = np.array([1, 2, 3])\n",
    "arr2 = np.array([4, 5, 6])\n",
    "result = np.hstack((arr1, arr2))\n",
    "print(result) "
   ]
  },
  {
   "cell_type": "code",
   "execution_count": 27,
   "id": "18e3e4",
   "metadata": {
    "collapsed": false
   },
   "outputs": [
    {
     "name": "stdout",
     "output_type": "stream",
     "text": [
      "[[1 2]\n",
      " [3 4]]\n"
     ]
    }
   ],
   "source": [
    "#2-d array\n",
    "arr1 = np.array([[1], [3]])\n",
    "arr2 = np.array([[2], [4]])\n",
    "result = np.hstack((arr1, arr2))\n",
    "print(result)\n"
   ]
  },
  {
   "cell_type": "code",
   "execution_count": 28,
   "id": "e8cb9e",
   "metadata": {
    "collapsed": false
   },
   "outputs": [
    {
     "name": "stdout",
     "output_type": "stream",
     "text": [
      "[[1 2 3]\n",
      " [4 5 6]]\n"
     ]
    }
   ],
   "source": [
    "#The vstack() function stacks arrays vertically (row-wise).\n",
    "arr1 = np.array([1, 2, 3])\n",
    "arr2 = np.array([4, 5, 6])\n",
    "result = np.vstack((arr1, arr2))\n",
    "print(result)"
   ]
  },
  {
   "cell_type": "code",
   "execution_count": 29,
   "id": "9bd692",
   "metadata": {
    "collapsed": false
   },
   "outputs": [
    {
     "name": "stdout",
     "output_type": "stream",
     "text": [
      "[[[1 4]\n",
      "  [2 5]\n",
      "  [3 6]]]\n"
     ]
    }
   ],
   "source": [
    "#The dstack() function stacks arrays depth-wise (along the third dimension).\n",
    "arr1 = np.array([1, 2, 3])\n",
    "arr2 = np.array([4, 5, 6])\n",
    "result = np.dstack((arr1, arr2))\n",
    "print(result)"
   ]
  },
  {
   "cell_type": "code",
   "execution_count": 30,
   "id": "c9111a",
   "metadata": {
    "collapsed": false
   },
   "outputs": [
    {
     "name": "stdout",
     "output_type": "stream",
     "text": [
      "[array([1, 2]), array([3, 4]), array([5, 6])]\n"
     ]
    }
   ],
   "source": [
    "#The split() function splits an array into multiple sub-arrays along a specified axis.\n",
    "import numpy as np\n",
    "\n",
    "arr = np.array([1, 2, 3, 4, 5, 6])\n",
    "result = np.split(arr, 3)  # Split into 3 equal parts\n",
    "print(result)"
   ]
  },
  {
   "cell_type": "code",
   "execution_count": 31,
   "id": "a8fcd2",
   "metadata": {
    "collapsed": false
   },
   "outputs": [
    {
     "name": "stdout",
     "output_type": "stream",
     "text": [
      "[array([1, 2]), array([3, 4]), array([5, 6])]\n"
     ]
    }
   ],
   "source": [
    "#Use indices to specify uneven splits:\n",
    "result = np.split(arr, [2, 4])  # Split at indices 2 and 4\n",
    "print(result)"
   ]
  },
  {
   "cell_type": "code",
   "execution_count": 32,
   "id": "88250a",
   "metadata": {
    "collapsed": false
   },
   "outputs": [
    {
     "name": "stdout",
     "output_type": "stream",
     "text": [
      "[array([[1],\n",
      "       [4]]), array([[2],\n",
      "       [5]]), array([[3],\n",
      "       [6]])]\n"
     ]
    }
   ],
   "source": [
    "#The hsplit() function splits an array horizontally (column-wise).\n",
    "arr = np.array([[1, 2, 3], [4, 5, 6]])\n",
    "result = np.hsplit(arr, 3)  # Split into 3 columns\n",
    "print(result)"
   ]
  },
  {
   "cell_type": "code",
   "execution_count": 33,
   "id": "6ca735",
   "metadata": {
    "collapsed": false
   },
   "outputs": [
    {
     "name": "stdout",
     "output_type": "stream",
     "text": [
      "[array([[1, 2, 3]]), array([[4, 5, 6]])]\n"
     ]
    }
   ],
   "source": [
    "#The vsplit() function splits an array vertically (row-wise).\n",
    "arr = np.array([[1, 2, 3], [4, 5, 6]])\n",
    "result = np.vsplit(arr, 2)  # Split into 2 rows\n",
    "print(result)"
   ]
  },
  {
   "cell_type": "code",
   "execution_count": 34,
   "id": "8b72f4",
   "metadata": {
    "collapsed": false
   },
   "outputs": [
    {
     "name": "stdout",
     "output_type": "stream",
     "text": [
      "[array([[[1],\n",
      "        [3]],\n",
      "\n",
      "       [[5],\n",
      "        [7]]]), array([[[2],\n",
      "        [4]],\n",
      "\n",
      "       [[6],\n",
      "        [8]]])]\n"
     ]
    }
   ],
   "source": [
    "#The dsplit() function splits an array depth-wise (along the third dimension).\n",
    "arr = np.array([[[1, 2], [3, 4]], [[5, 6], [7, 8]]])\n",
    "result = np.dsplit(arr, 2)  # Split into 2 depth-wise slices\n",
    "print(result)"
   ]
  },
  {
   "cell_type": "code",
   "execution_count": 35,
   "id": "39da40",
   "metadata": {
    "collapsed": false
   },
   "outputs": [
    {
     "name": "stdout",
     "output_type": "stream",
     "text": [
      "Powers of Array Elements:\n",
      "[ 1  4  9 16 25 36]\n",
      "Exponential of Array Elements:\n",
      "[  2.71828183   7.3890561   20.08553692  54.59815003 148.4131591\n",
      " 403.42879349]\n"
     ]
    }
   ],
   "source": [
    "# Creating an array\n",
    "arr = np.array([1, 2, 3, 4, 5, 6])\n",
    "\n",
    "# Mathematical Operations\n",
    "# Power and exponential functions\n",
    "powers = np.power(arr, 2)  # Square of each element\n",
    "exponentials = np.exp(arr)  # Exponential of each element\n",
    "\n",
    "print(\"Powers of Array Elements:\")\n",
    "print(powers)\n",
    "print(\"Exponential of Array Elements:\")\n",
    "print(exponentials)"
   ]
  },
  {
   "cell_type": "code",
   "execution_count": 36,
   "id": "3fe57c",
   "metadata": {
    "collapsed": false
   },
   "outputs": [
    {
     "name": "stdout",
     "output_type": "stream",
     "text": [
      "\n",
      "Sine Values:\n",
      "[0.01745241 0.0348995  0.05233596 0.06975647 0.08715574 0.10452846]\n",
      "Cosine Values:\n",
      "[0.9998477  0.99939083 0.99862953 0.99756405 0.9961947  0.9945219 ]\n"
     ]
    }
   ],
   "source": [
    "# Trigonometric Functions\n",
    "sine_values = np.sin(arr * np.pi / 180)  # Sine of each element, assuming the input is in degrees\n",
    "cosine_values = np.cos(arr * np.pi / 180)  # Cosine of each element\n",
    "\n",
    "print(\"\\nSine Values:\")\n",
    "print(sine_values)\n",
    "print(\"Cosine Values:\")\n",
    "print(cosine_values)"
   ]
  },
  {
   "cell_type": "code",
   "execution_count": 37,
   "id": "c27ef7",
   "metadata": {
    "collapsed": false
   },
   "outputs": [
    {
     "name": "stdout",
     "output_type": "stream",
     "text": [
      "\n",
      "Statistics of the Array:\n",
      "Mean: 3.5, Median: 3.5, Variance: 2.9166666666666665\n"
     ]
    }
   ],
   "source": [
    "# Statistical Functions\n",
    "mean_val = np.mean(arr)\n",
    "median_val = np.median(arr)\n",
    "variance_val = np.var(arr)\n",
    "\n",
    "print(\"\\nStatistics of the Array:\")\n",
    "print(f\"Mean: {mean_val}, Median: {median_val}, Variance: {variance_val}\")"
   ]
  },
  {
   "cell_type": "code",
   "execution_count": 38,
   "id": "075fc9",
   "metadata": {
    "collapsed": false
   },
   "outputs": [
    {
     "name": "stdout",
     "output_type": "stream",
     "text": [
      "\n",
      "Matrix A:\n",
      "[[1 2]\n",
      " [3 4]]\n",
      "Matrix B:\n",
      "[[2 0]\n",
      " [1 2]]\n",
      "Matrix Product of A and B:\n",
      "[[ 4  4]\n",
      " [10  8]]\n",
      "Eigenvalues of Matrix A:\n",
      "[-0.37228132  5.37228132]\n",
      "Eigenvectors of Matrix A:\n",
      "[[-0.82456484 -0.41597356]\n",
      " [ 0.56576746 -0.90937671]]\n"
     ]
    }
   ],
   "source": [
    "# Linear Algebra\n",
    "# Creating two matrices for demonstrating matrix operations\n",
    "A = np.array([[1, 2], [3, 4]])\n",
    "B = np.array([[2, 0], [1, 2]])\n",
    "\n",
    "# Matrix Multiplication\n",
    "matrix_product = np.dot(A, B)\n",
    "\n",
    "# Eigenvalues and eigenvectors\n",
    "eigenvalues, eigenvectors = np.linalg.eig(A)\n",
    "\n",
    "print(\"\\nMatrix A:\")\n",
    "print(A)\n",
    "print(\"Matrix B:\")\n",
    "print(B)\n",
    "print(\"Matrix Product of A and B:\")\n",
    "print(matrix_product)\n",
    "print(\"Eigenvalues of Matrix A:\")\n",
    "print(eigenvalues)\n",
    "print(\"Eigenvectors of Matrix A:\")\n",
    "print(eigenvectors)\n"
   ]
  },
  {
   "cell_type": "code",
   "execution_count": 39,
   "id": "f249c0",
   "metadata": {
    "collapsed": false
   },
   "outputs": [
    {
     "name": "stdout",
     "output_type": "stream",
     "text": [
      "\n",
      "Solution to the system of equations (3x + 4y = 5, 2x - y = 1):\n",
      "[0.81818182 0.63636364]\n"
     ]
    }
   ],
   "source": [
    "# Solving a system of linear equations\n",
    "# Consider the system: 3x + 4y = 5 and 2x - y = 1\n",
    "coefficients = np.array([[3, 4], [2, -1]])\n",
    "constants = np.array([5, 1])\n",
    "\n",
    "solutions = np.linalg.solve(coefficients, constants)\n",
    "print(\"\\nSolution to the system of equations (3x + 4y = 5, 2x - y = 1):\")\n",
    "print(solutions)"
   ]
  },
  {
   "cell_type": "code",
   "execution_count": 40,
   "id": "7ab8ef",
   "metadata": {
    "collapsed": false
   },
   "outputs": [
    {
     "name": "stdout",
     "output_type": "stream",
     "text": [
      "\n",
      "Random Samples from a Normal Distribution:\n",
      "[-1.81779659 -0.09636788 -1.10150761 -1.96330021  1.24427419  0.04381252\n",
      "  0.26960023 -0.69589679  0.732057    1.85736454]\n"
     ]
    }
   ],
   "source": [
    "# Random Sampling for Statistics\n",
    "# Generate 10 random samples from a normal distribution with mean 0 and standard deviation 1\n",
    "random_samples = np.random.normal(0, 1, 10)\n",
    "print(\"\\nRandom Samples from a Normal Distribution:\")\n",
    "print(random_samples)"
   ]
  },
  {
   "cell_type": "code",
   "execution_count": 41,
   "id": "4a1ad0",
   "metadata": {
    "collapsed": false
   },
   "outputs": [
    {
     "name": "stdout",
     "output_type": "stream",
     "text": [
      "0.6534505628335295\n"
     ]
    }
   ],
   "source": [
    "import random\n",
    "print(random.random())  # Output: A random number between 0 and 1\n"
   ]
  },
  {
   "cell_type": "code",
   "execution_count": 43,
   "id": "d521dd",
   "metadata": {
    "collapsed": false
   },
   "outputs": [
    {
     "name": "stdout",
     "output_type": "stream",
     "text": [
      "10\n"
     ]
    }
   ],
   "source": [
    "#random.randint(a, b): Returns a random integer between a and b (inclusive).\n",
    "print(random.randint(1, 10))  # Output: Random integer between 1 and 10\n"
   ]
  },
  {
   "cell_type": "code",
   "execution_count": 44,
   "id": "752d43",
   "metadata": {
    "collapsed": false
   },
   "outputs": [
    {
     "name": "stdout",
     "output_type": "stream",
     "text": [
      "3.474286446005295\n"
     ]
    }
   ],
   "source": [
    "#random.uniform(a, b): Returns a random float between a and b.\n",
    "print(random.uniform(1, 10))  # Output: Random float between 1 and 10"
   ]
  },
  {
   "cell_type": "code",
   "execution_count": 46,
   "id": "e6f72d",
   "metadata": {
    "collapsed": false
   },
   "outputs": [
    {
     "name": "stdout",
     "output_type": "stream",
     "text": [
      "3\n"
     ]
    }
   ],
   "source": [
    "#random.choice(sequence): Randomly selects an element from a non-empty sequence (e.g., list, tuple).\n",
    "my_list = [1, 2, 3, 4, 5]\n",
    "print(random.choice(my_list))"
   ]
  },
  {
   "cell_type": "code",
   "execution_count": 47,
   "id": "057667",
   "metadata": {
    "collapsed": false
   },
   "outputs": [
    {
     "name": "stdout",
     "output_type": "stream",
     "text": [
      "[1, 4, 5, 3, 2]\n"
     ]
    }
   ],
   "source": [
    "#random.shuffle(sequence): Randomly shuffles the elements of a list in place.\n",
    "random.shuffle(my_list)\n",
    "print(my_list) "
   ]
  },
  {
   "cell_type": "code",
   "execution_count": 48,
   "id": "6d88bd",
   "metadata": {
    "collapsed": false
   },
   "outputs": [
    {
     "name": "stdout",
     "output_type": "stream",
     "text": [
      "[[0.21469017 0.669559  ]\n",
      " [0.87311069 0.00187485]\n",
      " [0.46682799 0.75097693]]\n"
     ]
    }
   ],
   "source": [
    "#numpy.random.rand(): Returns an array of random numbers between 0 and 1.\n",
    "import numpy as np\n",
    "arr = np.random.rand(3, 2)  # 3x2 array of random floats between 0 and 1\n",
    "print(arr)"
   ]
  },
  {
   "cell_type": "code",
   "execution_count": 49,
   "id": "e8e956",
   "metadata": {
    "collapsed": false
   },
   "outputs": [
    {
     "name": "stdout",
     "output_type": "stream",
     "text": [
      "[[2 1 6]\n",
      " [2 6 2]]\n"
     ]
    }
   ],
   "source": [
    "#numpy.random.randint(low, high, size): Returns a random integer array between low and high (exclusive of high).\n",
    "arr = np.random.randint(1, 10, size=(2, 3))  # 2x3 array of random integers between 1 and 10\n",
    "print(arr)"
   ]
  },
  {
   "cell_type": "code",
   "execution_count": 50,
   "id": "6cbc1d",
   "metadata": {
    "collapsed": false
   },
   "outputs": [
    {
     "name": "stdout",
     "output_type": "stream",
     "text": [
      "[[2.22001137 9.68120893 6.12282334]\n",
      " [6.42317002 5.66219873 8.04624643]]\n"
     ]
    }
   ],
   "source": [
    "# numpy.random.uniform(low, high, size): Returns an array of random floats between low and high.\n",
    "arr = np.random.uniform(1, 10, size=(2, 3))  # 2x3 array of random floats between 1 and 10\n",
    "print(arr)"
   ]
  },
  {
   "cell_type": "code",
   "execution_count": 51,
   "id": "d42f0b",
   "metadata": {
    "collapsed": false
   },
   "outputs": [
    {
     "name": "stdout",
     "output_type": "stream",
     "text": [
      "[1 3 4]\n"
     ]
    }
   ],
   "source": [
    "#numpy.random.choice(a, size, replace, p): Randomly selects elements from an array.\n",
    "arr = np.array([1, 2, 3, 4, 5])\n",
    "result = np.random.choice(arr, size=3, replace=False)  # Select 3 elements without replacement\n",
    "print(result)"
   ]
  },
  {
   "cell_type": "code",
   "execution_count": 52,
   "id": "62aa74",
   "metadata": {
    "collapsed": false
   },
   "outputs": [
    {
     "name": "stdout",
     "output_type": "stream",
     "text": [
      "[ 1.1837143   0.87875852  2.33444476  0.59314017 -0.38511166]\n"
     ]
    }
   ],
   "source": [
    "#numpy.random.normal(loc, scale, size): Generates random numbers from a normal (Gaussian) distribution.\n",
    "arr = np.random.normal(0, 1, 5)  # 5 random numbers from a normal distribution with mean=0 and std=1\n",
    "print(arr)"
   ]
  },
  {
   "cell_type": "code",
   "execution_count": 53,
   "id": "9c177c",
   "metadata": {
    "collapsed": false
   },
   "outputs": [
    {
     "name": "stdout",
     "output_type": "stream",
     "text": [
      "0.6394267984578837\n"
     ]
    }
   ],
   "source": [
    "# Using random.seed():\n",
    "random.seed(42)\n",
    "print(random.random()) # Output: Always the same value for the same seed"
   ]
  },
  {
   "cell_type": "code",
   "execution_count": 54,
   "id": "1fabea",
   "metadata": {
    "collapsed": false
   },
   "outputs": [
    {
     "name": "stdout",
     "output_type": "stream",
     "text": [
      "[[0.37454012 0.95071431]\n",
      " [0.73199394 0.59865848]]\n"
     ]
    }
   ],
   "source": [
    "np.random.seed(42)\n",
    "print(np.random.rand(2, 2))  # Output: Always the same array for the same seed"
   ]
  },
  {
   "cell_type": "code",
   "execution_count": 55,
   "id": "ed16b1",
   "metadata": {
    "collapsed": false
   },
   "outputs": [
    {
     "name": "stdout",
     "output_type": "stream",
     "text": [
      "[[0.15601864 0.15599452 0.05808361]\n",
      " [0.86617615 0.60111501 0.70807258]\n",
      " [0.02058449 0.96990985 0.83244264]\n",
      " [0.21233911 0.18182497 0.18340451]\n",
      " [0.30424224 0.52475643 0.43194502]\n",
      " [0.29122914 0.61185289 0.13949386]\n",
      " [0.29214465 0.36636184 0.45606998]\n",
      " [0.78517596 0.19967378 0.51423444]\n",
      " [0.59241457 0.04645041 0.60754485]\n",
      " [0.17052412 0.06505159 0.94888554]\n",
      " [0.96563203 0.80839735 0.30461377]\n",
      " [0.09767211 0.68423303 0.44015249]\n",
      " [0.12203823 0.49517691 0.03438852]\n",
      " [0.9093204  0.25877998 0.66252228]\n",
      " [0.31171108 0.52006802 0.54671028]\n",
      " [0.18485446 0.96958463 0.77513282]\n",
      " [0.93949894 0.89482735 0.59789998]\n",
      " [0.92187424 0.0884925  0.19598286]\n",
      " [0.04522729 0.32533033 0.38867729]\n",
      " [0.27134903 0.82873751 0.35675333]\n",
      " [0.28093451 0.54269608 0.14092422]\n",
      " [0.80219698 0.07455064 0.98688694]\n",
      " [0.77224477 0.19871568 0.00552212]\n",
      " [0.81546143 0.70685734 0.72900717]\n",
      " [0.77127035 0.07404465 0.35846573]\n",
      " [0.11586906 0.86310343 0.62329813]\n",
      " [0.33089802 0.06355835 0.31098232]\n",
      " [0.32518332 0.72960618 0.63755747]\n",
      " [0.88721274 0.47221493 0.11959425]\n",
      " [0.71324479 0.76078505 0.5612772 ]\n",
      " [0.77096718 0.4937956  0.52273283]\n",
      " [0.42754102 0.02541913 0.10789143]\n",
      " [0.03142919 0.63641041 0.31435598]\n",
      " [0.50857069 0.90756647 0.24929223]\n",
      " [0.41038292 0.75555114 0.22879817]\n",
      " [0.07697991 0.28975145 0.16122129]\n",
      " [0.92969765 0.80812038 0.63340376]\n",
      " [0.87146059 0.80367208 0.18657006]\n",
      " [0.892559   0.53934224 0.80744016]\n",
      " [0.8960913  0.31800347 0.11005192]\n",
      " [0.22793516 0.42710779 0.81801477]\n",
      " [0.86073058 0.00695213 0.5107473 ]\n",
      " [0.417411   0.22210781 0.11986537]\n",
      " [0.33761517 0.9429097  0.32320293]\n",
      " [0.51879062 0.70301896 0.3636296 ]\n",
      " [0.97178208 0.96244729 0.2517823 ]\n",
      " [0.49724851 0.30087831 0.28484049]\n",
      " [0.03688695 0.60956433 0.50267902]\n",
      " [0.05147875 0.27864646 0.90826589]\n",
      " [0.23956189 0.14489487 0.48945276]\n",
      " [0.98565045 0.24205527 0.67213555]\n",
      " [0.76161962 0.23763754 0.72821635]\n",
      " [0.36778313 0.63230583 0.63352971]\n",
      " [0.53577468 0.09028977 0.8353025 ]\n",
      " [0.32078006 0.18651851 0.04077514]\n",
      " [0.59089294 0.67756436 0.01658783]\n",
      " [0.51209306 0.22649578 0.64517279]\n",
      " [0.17436643 0.69093774 0.38673535]\n",
      " [0.93672999 0.13752094 0.34106635]\n",
      " [0.11347352 0.92469362 0.87733935]\n",
      " [0.25794163 0.65998405 0.8172222 ]\n",
      " [0.55520081 0.52965058 0.24185229]\n",
      " [0.09310277 0.89721576 0.90041806]\n",
      " [0.63310146 0.33902979 0.34920957]\n",
      " [0.72595568 0.89711026 0.88708642]\n",
      " [0.77987555 0.64203165 0.08413996]\n",
      " [0.16162871 0.89855419 0.60642906]\n",
      " [0.00919705 0.10147154 0.66350177]\n",
      " [0.00506158 0.16080805 0.54873379]\n",
      " [0.6918952  0.65196126 0.22426931]\n",
      " [0.71217922 0.23724909 0.3253997 ]\n",
      " [0.74649141 0.6496329  0.84922341]\n",
      " [0.65761289 0.5683086  0.09367477]\n",
      " [0.3677158  0.26520237 0.24398964]\n",
      " [0.97301055 0.39309772 0.89204656]\n",
      " [0.63113863 0.7948113  0.50263709]\n",
      " [0.57690388 0.49251769 0.19524299]\n",
      " [0.72245212 0.28077236 0.02431597]\n",
      " [0.6454723  0.17711068 0.94045858]\n",
      " [0.95392858 0.91486439 0.3701587 ]\n",
      " [0.01545662 0.92831856 0.42818415]\n",
      " [0.96665482 0.96361998 0.85300946]\n",
      " [0.29444889 0.38509773 0.85113667]\n",
      " [0.31692201 0.16949275 0.55680126]\n",
      " [0.93615477 0.6960298  0.57006117]\n",
      " [0.09717649 0.61500723 0.99005385]\n",
      " [0.14008402 0.51832965 0.87737307]\n",
      " [0.74076862 0.69701574 0.70248408]\n",
      " [0.35949115 0.29359184 0.80936116]\n",
      " [0.81011339 0.86707232 0.91324055]\n",
      " [0.5113424  0.50151629 0.79829518]\n",
      " [0.64996393 0.70196688 0.79579267]\n",
      " [0.89000534 0.33799516 0.37558295]\n",
      " [0.09398194 0.57828014 0.03594227]\n",
      " [0.46559802 0.54264463 0.28654125]\n",
      " [0.59083326 0.03050025 0.03734819]\n",
      " [0.82260056 0.36019064 0.12706051]\n",
      " [0.52224326 0.76999355 0.21582103]\n",
      " [0.62289048 0.08534746 0.05168172]\n",
      " [0.53135463 0.54063512 0.6374299 ]]\n",
      "[1 1 0 1 1 1 1 0 0 1 0 0 1 1 0 1 0 1 0 1 0 0 0 1 0 0 1 1 0 0 1 1 1 1 1 0 1\n",
      " 0 0 0 1 0 0 1 0 0 1 0 0 0 1 1 1 0 0 1 0 0 1 1 0 0 0 1 1 1 1 0 1 1 1 1 1 0\n",
      " 0 1 0 1 1 0 0 1 1 1 0 1 1 1 0 1 1 0 1 1 0 1 0 0 1 1]\n"
     ]
    }
   ],
   "source": [
    "import numpy as np\n",
    "\n",
    "# Simulate a dataset with 100 samples and 3 features\n",
    "data = np.random.rand(100, 3)  # 100 rows, 3 columns of random floats between 0 and 1\n",
    "print(data)\n",
    "\n",
    "# Generate random labels (0 or 1)\n",
    "labels = np.random.randint(0, 2, size=100)  # Random binary labels\n",
    "print(labels)"
   ]
  }
 ],
 "metadata": {
  "kernelspec": {
   "argv": [
    "/usr/bin/python3",
    "-m",
    "ipykernel",
    "--HistoryManager.enabled=False",
    "--matplotlib=inline",
    "-c",
    "%config InlineBackend.figure_formats = set(['retina'])\nimport matplotlib; matplotlib.rcParams['figure.figsize'] = (12, 7)",
    "-f",
    "{connection_file}"
   ],
   "display_name": "Python 3 (system-wide)",
   "env": {},
   "language": "python",
   "metadata": {
    "cocalc": {
     "description": "Python 3 programming language",
     "priority": 100,
     "url": "https://www.python.org/"
    }
   },
   "name": "python3",
   "resource_dir": "/ext/jupyter/kernels/python3"
  },
  "language_info": {
   "codemirror_mode": {
    "name": "ipython",
    "version": 3
   },
   "file_extension": ".py",
   "mimetype": "text/x-python",
   "name": "python",
   "nbconvert_exporter": "python",
   "pygments_lexer": "ipython3",
   "version": "3.10.12"
  }
 },
 "nbformat": 4,
 "nbformat_minor": 4
}
