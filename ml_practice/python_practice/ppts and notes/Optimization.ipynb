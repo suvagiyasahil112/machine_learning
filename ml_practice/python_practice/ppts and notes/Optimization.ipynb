{
 "cells": [
  {
   "cell_type": "markdown",
   "id": "c862387f-361c-4972-a4c9-83ac7aeec35e",
   "metadata": {},
   "source": [
    "### 1\\. Linear Programming Basics\n",
    "\n",
    "Linear programming (LP) is a method to achieve the best outcome (such as maximum profit or lowest cost) in a mathematical model whose requirements are represented by linear relationships. LP is a special case of mathematical programming (mathematical optimization).\n",
    "\n",
    "**Components of a Linear Programming Problem:**\n",
    "\n",
    "*   **Objective Function:** The function that needs to be optimized (maximized or minimized).\n",
    "    \n",
    "*   **Decision Variables:** The variables that will determine the outcome.\n",
    "    \n",
    "*   **Constraints:** The restrictions or limitations on the decision variables.\n",
    "    \n",
    "*   **Non-negativity Restriction:** The decision variables should be greater than or equal to zero.\n",
    "    \n",
    "\n",
    "### 2\\. Steps in Solving an Optimization Problem with PuLP\n",
    "\n",
    "1.  **Define the Problem**\n",
    "    \n",
    "2.  **Define the Decision Variables**\n",
    "    \n",
    "3.  **Define the Objective Function**\n",
    "    \n",
    "4.  **Define the Constraints**\n",
    "    \n",
    "5.  **Solve the Problem**\n",
    "    \n",
    "6.  **Analyze the Results**\n",
    "    \n",
    "\n",
    "### 3\\. Detailed Explanation of Each Step\n",
    "\n",
    "#### Step 1: Define the Problem\n",
    "\n",
    "This step involves understanding what you need to optimize. For example, you might want to maximize profit or minimize cost in a given scenario.\n",
    "\n",
    "**Example Problem:**Maximize the profit of a factory that produces two products, Product A and Product B. Each product requires different amounts of resources, and there are limited resources available.\n",
    "\n",
    "#### Step 2: Define the Decision Variables\n",
    "\n",
    "Decision variables represent the quantities we want to determine. These are the variables that will be adjusted to optimize the objective function.\n",
    "\n",
    "**Example:**Let 𝑥_x_ be the number of units of Product A produced, and 𝑦_y_ be the number of units of Product B produced.\n",
    "\n",
    "#### Step 3: Define the Objective Function\n",
    "\n",
    "The objective function is the formula that needs to be maximized or minimized. This function will be a linear combination of the decision variables.\n",
    "\n",
    "**Example:**Maximize profit: 𝑃𝑟𝑜𝑓𝑖𝑡=40𝑥+30𝑦_Profit_\\=40_x_+30_y_\n",
    "\n",
    "#### Step 4: Define the Constraints\n",
    "\n",
    "Constraints are the restrictions or limitations on the decision variables. These are also linear combinations of the decision variables.\n",
    "\n",
    "**Example:**\n",
    "\n",
    "*   Resource 1 constraint: 2𝑥+3𝑦≤602_x_+3_y_≤60\n",
    "    \n",
    "*   Resource 2 constraint: 4𝑥+2𝑦≤804_x_+2_y_≤80\n",
    "    \n",
    "\n",
    "#### Step 5: Solve the Problem\n",
    "\n",
    "Solving the problem involves using a solver to find the values of the decision variables that optimize the objective function while satisfying all constraints.\n",
    "\n",
    "**Example:**Use the CBC solver provided by PuLP and enable verbose output to see the intermediate steps and how the values are changing.\n",
    "\n",
    "#### Step 6: Analyze the Results\n",
    "\n",
    "After solving the problem, we need to analyze the results to understand the optimal values of the decision variables and the value of the objective function.\n",
    "\n",
    "**Example:**Determine the status of the solution, the optimal values of 𝑥_x_ and 𝑦_y_, and the maximum profit achieved.\n",
    "\n",
    "### Explanation of Components\n",
    "\n",
    "*   **Solver:** A solver is an algorithm or method used to find the optimal solution. PuLP uses solvers like CBC (default) or GLPK to solve LP problems.\n",
    "    \n",
    "*   **Constraint:** A constraint is a limitation or restriction on the decision variables. It ensures that the solution is feasible within the given bounds.\n",
    "    \n",
    "*   **Objective Function:** This is the function that we want to maximize or minimize. It represents the goal of the optimization problem.\n",
    "    \n",
    "*   **Decision Variables:** These are the variables that can be controlled or adjusted to achieve the optimal solution."
   ]
  },
  {
   "cell_type": "code",
   "execution_count": null,
   "id": "882d1608-50c7-493d-be42-9ee68a69cb58",
   "metadata": {},
   "outputs": [],
   "source": []
  },
  {
   "cell_type": "code",
   "execution_count": 32,
   "id": "41ca3144-7d0a-47d4-83ed-a31824d28c27",
   "metadata": {},
   "outputs": [],
   "source": [
    "import pulp"
   ]
  },
  {
   "cell_type": "code",
   "execution_count": null,
   "id": "210ed97c-5823-4649-8e88-d8bc614dffec",
   "metadata": {},
   "outputs": [],
   "source": []
  },
  {
   "cell_type": "code",
   "execution_count": 33,
   "id": "2495a2a3-3119-4fa5-a1b4-11649e31b30a",
   "metadata": {},
   "outputs": [],
   "source": [
    "# Define the problem\n",
    "problem = pulp.LpProblem(\"Simple_LP_Problem\", pulp.LpMaximize)"
   ]
  },
  {
   "cell_type": "code",
   "execution_count": 34,
   "id": "504d9923-0860-405e-a9af-1c9cd4e1ad37",
   "metadata": {},
   "outputs": [],
   "source": [
    "# Define the decision variables\n",
    "x = pulp.LpVariable('x', lowBound=0)\n",
    "y = pulp.LpVariable('y', lowBound=0)"
   ]
  },
  {
   "cell_type": "code",
   "execution_count": 35,
   "id": "1d9ab23d-1740-4e24-9aa0-13d17a83ce68",
   "metadata": {},
   "outputs": [],
   "source": [
    "# Define the objective function\n",
    "problem += 4 * x + 3 * y"
   ]
  },
  {
   "cell_type": "code",
   "execution_count": 36,
   "id": "1f807b52-c09f-40e2-910d-dd9879d7523c",
   "metadata": {},
   "outputs": [],
   "source": [
    "# Define the constraints\n",
    "problem += 2 * x + y <= 20\n",
    "problem += 4 * x - 5 * y >= -10\n",
    "problem += -x + 2 * y >= -2"
   ]
  },
  {
   "cell_type": "code",
   "execution_count": null,
   "id": "1b91216a-f0fa-45c5-b042-5149f793dc86",
   "metadata": {},
   "outputs": [
    {
     "data": {
      "text/plain": [
       "Traceback (most recent call last):\n",
       "  File \"c:\\Users\\Sahil\\.vscode\\extensions\\ms-python.python-2025.2.0-win32-x64\\python_files\\python_server.py\", line 133, in exec_user_input\n",
       "    retval = callable_(user_input, user_globals)\n",
       "  File \"<string>\", line 2, in <module>\n",
       "NameError: name 'pulp' is not defined\n",
       "\n"
      ]
     },
     "metadata": {},
     "output_type": "display_data"
    }
   ],
   "source": [
    "# Solve the problem with CBC solver and enable verbose output\n",
    "solver = pulp.PULP_CBC_CMD(msg=True)\n",
    "\n",
    "\n",
    "problem.solve(solver)\n"
   ]
  },
  {
   "cell_type": "code",
   "execution_count": 38,
   "id": "3e0c7b8c-de4e-4966-8687-975019e77688",
   "metadata": {},
   "outputs": [
    {
     "name": "stdout",
     "output_type": "stream",
     "text": [
      "Status: Optimal\n",
      "x = 6.4285714\n",
      "y = 7.1428571\n",
      "Objective = 47.1428569\n"
     ]
    }
   ],
   "source": [
    "# Print the results\n",
    "print(f\"Status: {pulp.LpStatus[problem.status]}\")\n",
    "print(f\"x = {pulp.value(x)}\")\n",
    "print(f\"y = {pulp.value(y)}\")\n",
    "print(f\"Objective = {pulp.value(problem.objective)}\")"
   ]
  },
  {
   "cell_type": "code",
   "execution_count": 21,
   "id": "4943a2a6-6d75-45ff-a109-5eab6aa6302d",
   "metadata": {},
   "outputs": [
    {
     "name": "stderr",
     "output_type": "stream",
     "text": [
      "C:\\Users\\Shubhankit\\AppData\\Local\\Programs\\Python\\Python311\\Lib\\site-packages\\pulp\\solverdir\\cbc\\win\\64\\cbc.exe C:\\Users\\SHUBHA~1\\AppData\\Local\\Temp\\678674302a0d44e8a8d48389fe173c75-pulp.mps max timeMode elapsed branch printingOptions all solution C:\\Users\\SHUBHA~1\\AppData\\Local\\Temp\\678674302a0d44e8a8d48389fe173c75-pulp.sol \n",
      "Status: Optimal\n",
      "x = 6.4285714\n",
      "y = 7.1428571\n",
      "Objective = 47.1428569\n"
     ]
    }
   ],
   "source": [
    "import pulp\n",
    "import logging\n",
    "\n",
    "# Set up logging\n",
    "logging.basicConfig(level=logging.DEBUG, format='%(message)s')\n",
    "logger = logging.getLogger()\n",
    "\n",
    "# Define the problem\n",
    "problem = pulp.LpProblem(\"Simple_LP_Problem\", pulp.LpMaximize)\n",
    "\n",
    "# Define the decision variables\n",
    "x = pulp.LpVariable('x', lowBound=0)\n",
    "y = pulp.LpVariable('y', lowBound=0)\n",
    "\n",
    "# Define the objective function\n",
    "problem += 4 * x + 3 * y\n",
    "\n",
    "# Define the constraints\n",
    "problem += 2 * x + y <= 20\n",
    "problem += 4 * x - 5 * y >= -10\n",
    "problem += -x + 2 * y >= -2\n",
    "\n",
    "# Solve the problem with CBC solver and enable verbose output\n",
    "solver = pulp.PULP_CBC_CMD(msg=True)\n",
    "problem.solve(solver)\n",
    "\n",
    "# Log the results\n",
    "logger.debug(f\"Status: {pulp.LpStatus[problem.status]}\")\n",
    "logger.debug(f\"x = {pulp.value(x)}\")\n",
    "logger.debug(f\"y = {pulp.value(y)}\")\n",
    "logger.debug(f\"Objective = {pulp.value(problem.objective)}\")\n"
   ]
  },
  {
   "cell_type": "code",
   "execution_count": null,
   "id": "7029c569-f200-47f5-8d16-5732c5b4880f",
   "metadata": {},
   "outputs": [],
   "source": []
  }
 ],
 "metadata": {
  "kernelspec": {
   "display_name": "Python 3 (ipykernel)",
   "language": "python",
   "name": "python3"
  },
  "language_info": {
   "codemirror_mode": {
    "name": "ipython",
    "version": 3
   },
   "file_extension": ".py",
   "mimetype": "text/x-python",
   "name": "python",
   "nbconvert_exporter": "python",
   "pygments_lexer": "ipython3",
   "version": "3.11.6"
  }
 },
 "nbformat": 4,
 "nbformat_minor": 5
}
