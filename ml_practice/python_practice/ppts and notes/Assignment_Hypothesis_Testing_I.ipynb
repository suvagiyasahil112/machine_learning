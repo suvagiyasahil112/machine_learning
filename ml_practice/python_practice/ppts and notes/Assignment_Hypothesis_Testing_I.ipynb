{
 "cells": [
  {
   "cell_type": "code",
   "execution_count": null,
   "metadata": {
    "id": "lJxnYGm1vq4Z"
   },
   "outputs": [],
   "source": [
    "import numpy as np\n",
    "import seaborn as sns\n",
    "from scipy.stats import *\n",
    "import math"
   ]
  },
  {
   "cell_type": "code",
   "execution_count": null,
   "metadata": {
    "id": "yStVGGZuyRPe"
   },
   "outputs": [],
   "source": [
    "#helper functions\n",
    "class findz:\n",
    "  def proportion(self,sample,hyp,size):\n",
    "    return (sample - hyp)/math.sqrt(hyp*(1-hyp)/size)\n",
    "  def mean(self,hyp,sample,size,std):\n",
    "    return (sample - hyp)*math.sqrt(size)/std\n",
    "  def varience(self,hyp,sample,size):\n",
    "    return (size-1)*sample/hyp"
   ]
  },
  {
   "cell_type": "code",
   "execution_count": null,
   "metadata": {
    "id": "tTi6jxYy3QDw"
   },
   "outputs": [],
   "source": [
    "variance = lambda x : sum([(i - np.mean(x))**2 for i in x])/(len(x)-1)"
   ]
  },
  {
   "cell_type": "code",
   "execution_count": null,
   "metadata": {
    "id": "f1_FA9V7zV0f"
   },
   "outputs": [],
   "source": [
    "findz = findz()"
   ]
  },
  {
   "cell_type": "code",
   "execution_count": null,
   "metadata": {
    "id": "zCWPacbkEsvi"
   },
   "outputs": [],
   "source": [
    "def conclusion(p):\n",
    "  significance_level = 0.05\n",
    "  if p>significance_level:\n",
    "    return f\"Failed to reject the Null Hypothesis for p = {p}.\"\n",
    "  else:\n",
    "    return f\"Null Hypothesis rejected Successfully for p = {p}\""
   ]
  },
  {
   "cell_type": "code",
   "execution_count": null,
   "metadata": {
    "id": "ppos_wS1FXNK"
   },
   "outputs": [],
   "source": [
    "zcdf = lambda x: norm(0,1).cdf(x)"
   ]
  },
  {
   "cell_type": "code",
   "execution_count": null,
   "metadata": {
    "id": "ANUG0URimQBO"
   },
   "outputs": [],
   "source": [
    "def p_value(z,tailed):\n",
    "  z=zcdf(z)\n",
    "  if tailed=='l':\n",
    "    return z\n",
    "  elif tailed == 'r':\n",
    "    return 1-z\n",
    "  elif tailed == 'd':\n",
    "    if z>0.5:\n",
    "      return 2*(1-z)\n",
    "    else:\n",
    "      return 2*z\n",
    "  else:\n",
    "    return np.nan"
   ]
  },
  {
   "cell_type": "markdown",
   "metadata": {
    "id": "AioAG-n5U_6S"
   },
   "source": [
    "# <b> Write the steps and conclusions in the text cells. Use Python to calculate the probabilities. </b>"
   ]
  },
  {
   "cell_type": "markdown",
   "metadata": {
    "id": "Oq9OIkpjU3hr"
   },
   "source": [
    "# <b><u> Problem 1 </u> </b>\n",
    "\n",
    "## <b>The average IQ of a sample of 50 university students was found to be 105. Carry out a statistical test to determine whether the average IQ of university students is greater than 100, assuming that IQs are normally distributed. It is known from previous studies that the standard deviation of IQs among students is approximately 20. </b>"
   ]
  },
  {
   "cell_type": "markdown",
   "metadata": {
    "id": "0Xn2YUJQx7I7"
   },
   "source": [
    "values given : <br>\n",
    "\n",
    "\n",
    "*   Sample mean = 105\n",
    "*   Sample Size = 50\n",
    "* Sampple stdev = 20\n",
    "* Hypothesis mean = 100\n",
    "* p>100\n",
    "* Right Tailed\n"
   ]
  },
  {
   "cell_type": "markdown",
   "metadata": {
    "id": "qopYXC36uP0j"
   },
   "source": [
    "1. Null Hypothesis : p=100\n",
    "2. Alternate Hypotesis : p>100\n",
    "3. Critical Value : alpha = 0.05 :: p < 0.05\n",
    "4. Identify p value\n",
    "5. Conclusion\n"
   ]
  },
  {
   "cell_type": "markdown",
   "metadata": {
    "id": "1ECG-HvyQ01v"
   },
   "source": [
    "# <b><u> Problem 2 </u> </b>\n",
    "\n",
    "## <b>Carry out a statistical test to assess whether the standard deviation of the heights of 10- year-old children is equal to 3cm, based on the random sample of 5 heights in cm given below. Assume that heights are normally distributed.\n",
    "\n",
    "## 124, 122, 130, 125, 132 </b>"
   ]
  },
  {
   "cell_type": "markdown",
   "metadata": {
    "id": "fVWbG120fJvW"
   },
   "source": [
    "values given : <br>\n",
    "\n",
    "\n",
    "*   Sample\n",
    "*   Sample Size = 5\n",
    "* Hypothesis Stdev = 3\n",
    "*  Double Tailed\n",
    "\n"
   ]
  },
  {
   "cell_type": "markdown",
   "metadata": {
    "id": "B109wj_afeG4"
   },
   "source": [
    "1. Null Hypothesis : stdev = 3\n",
    "2. Alternate Hypotesis : stdev not = 9\n",
    "3. Critical Value : alpha = 0.05 :: p < 0.05\n",
    "4. Identify p value\n",
    "5. Conclusion\n"
   ]
  },
  {
   "cell_type": "markdown",
   "metadata": {
    "id": "jzEBNOS-uCs9"
   },
   "source": [
    "# <b><u> Problem 3 </u> </b>\n",
    "\n",
    "## <b>In a one-year mortality investigation, 45 of the 250 ninety-year-olds present at the start of the investigation died before the end of the year. Assuming that the number of deaths has a Bin(250,q) distribution, test whether this result is consistent with a mortality rate of q = 0.2 for this age. </b>"
   ]
  },
  {
   "cell_type": "markdown",
   "metadata": {
    "id": "W2skEVf9hk3T"
   },
   "source": [
    "values given : <br>\n",
    "\n",
    "\n",
    "*   theta = 45/250\n",
    "*   Sample Size = 250\n",
    "*  theta_h = 0.2\n",
    "*  Double Tailed\n",
    "\n"
   ]
  },
  {
   "cell_type": "markdown",
   "metadata": {
    "id": "9sXfc5EOhnGv"
   },
   "source": [
    "1. Null Hypothesis : theta = 0.2\n",
    "2. Alternate Hypotesis : theta not = 0.2\n",
    "3. Critical Value : alpha = 0.05 :: p < 0.05\n",
    "4. Identify p value\n",
    "5. Conclusion"
   ]
  },
  {
   "cell_type": "markdown",
   "metadata": {
    "id": "0X0lO-ciujvE"
   },
   "source": [
    "# <b><u> Problem 4 </u> </b>\n",
    "\n",
    "## <b>A new gene has been identified that makes carriers particularly susceptible to a particular degenerative disease. In a random sample of 250 adult males born in the UK, 8 were found to be carriers of the disease. Test whether the proportion of adult males born in the UK carrying the gene is less than 10%. </b>\n",
    "\n"
   ]
  },
  {
   "cell_type": "markdown",
   "metadata": {
    "id": "huKm8zOciEbv"
   },
   "source": [
    "values given : <br>\n",
    "\n",
    "\n",
    "*   theta = 8/250\n",
    "*   Sample Size = 250\n",
    "*  theta_h = 0.1\n",
    "*  Left Tailed\n",
    "\n"
   ]
  },
  {
   "cell_type": "markdown",
   "metadata": {
    "id": "uj9efkZpiHJG"
   },
   "source": [
    "1. Null Hypothesis : theta = 0.1\n",
    "2. Alternate Hypotesis : theta not < 0.1\n",
    "3. Critical Value : alpha = 0.05 :: p < 0.05\n",
    "4. Identify p value\n",
    "5. Conclusion"
   ]
  }
 ],
 "metadata": {
  "colab": {
   "provenance": []
  },
  "kernelspec": {
   "display_name": "Python 3 (ipykernel)",
   "language": "python",
   "name": "python3"
  },
  "language_info": {
   "codemirror_mode": {
    "name": "ipython",
    "version": 3
   },
   "file_extension": ".py",
   "mimetype": "text/x-python",
   "name": "python",
   "nbconvert_exporter": "python",
   "pygments_lexer": "ipython3",
   "version": "3.11.6"
  }
 },
 "nbformat": 4,
 "nbformat_minor": 4
}
