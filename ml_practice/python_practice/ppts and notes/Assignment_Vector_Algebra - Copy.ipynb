{
 "cells": [
  {
   "cell_type": "markdown",
   "metadata": {
    "id": "AioAG-n5U_6S"
   },
   "source": [
    "## **Complete these problems by hand in a piece of paper and then upload in a text cell.**"
   ]
  },
  {
   "cell_type": "markdown",
   "metadata": {
    "id": "Oq9OIkpjU3hr"
   },
   "source": [
    "# Problem 1"
   ]
  },
  {
   "cell_type": "markdown",
   "metadata": {
    "id": "VX9AT7Q4bIrU"
   },
   "source": [
    "<b>The vector $\\vec{v}$\n",
    "=\n",
    "⟨\n",
    "4\n",
    ",\n",
    "−\n",
    "2\n",
    ",\n",
    "1\n",
    "⟩\n",
    " ends at the point\n",
    "P\n",
    "=\n",
    "(\n",
    "7\n",
    ",\n",
    "−\n",
    "7\n",
    ",\n",
    "2\n",
    ")\n",
    ". At what point does the vector start? </b>"
   ]
  },
  {
   "cell_type": "markdown",
   "metadata": {
    "id": "qpBaazJwVQTW"
   },
   "source": [
    "# Problem 2"
   ]
  },
  {
   "cell_type": "markdown",
   "metadata": {
    "id": "SYll5c32Vtl0"
   },
   "source": [
    "<b>Check if the position vector formed by $ r = (cosθ,sinθ)$ is a unit vector. Assume (0,0) as the origin. </b>\n",
    "."
   ]
  },
  {
   "cell_type": "markdown",
   "metadata": {
    "id": "mOWp34v6VyIs"
   },
   "source": [
    "# Problem 3"
   ]
  },
  {
   "cell_type": "markdown",
   "metadata": {
    "id": "IAMOk0s0WNfn"
   },
   "source": [
    "<b>Find a vector that points in the opposite direction as $\\vec{a}$\n",
    "=\n",
    "⟨\n",
    "−\n",
    "3\n",
    ",\n",
    "−\n",
    "14\n",
    ",\n",
    "2\n",
    "⟩\n",
    " with a magnitude of 32.</b>"
   ]
  },
  {
   "cell_type": "markdown",
   "metadata": {
    "id": "ScKcpYPHWLcH"
   },
   "source": [
    "# Problem 4"
   ]
  },
  {
   "cell_type": "markdown",
   "metadata": {
    "id": "nDnqt1PWWTQ-"
   },
   "source": [
    "<b>Given that  $\\vec{a}.\\vec{b} = 6 , \\Vert{a}\\Vert = 4.3$  and the angle between $\\vec{a} $ and $\\vec{b}$ is $\\frac{\\pi}{6}$, determine if $\\vec{b}$ is a unit vector or not. </b>"
   ]
  }
 ],
 "metadata": {
  "colab": {
   "provenance": []
  },
  "kernelspec": {
   "display_name": "Python 3 (ipykernel)",
   "language": "python",
   "name": "python3"
  },
  "language_info": {
   "codemirror_mode": {
    "name": "ipython",
    "version": 3
   },
   "file_extension": ".py",
   "mimetype": "text/x-python",
   "name": "python",
   "nbconvert_exporter": "python",
   "pygments_lexer": "ipython3",
   "version": "3.11.6"
  }
 },
 "nbformat": 4,
 "nbformat_minor": 4
}
