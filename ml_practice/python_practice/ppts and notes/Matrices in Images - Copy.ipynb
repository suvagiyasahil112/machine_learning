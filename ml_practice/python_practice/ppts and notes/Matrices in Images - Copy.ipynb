{
 "cells": [
  {
   "cell_type": "markdown",
   "id": "aa9208d2-e81c-4ed5-8cf8-9242577def72",
   "metadata": {},
   "source": [
    "Introduction\r\n",
    "------------\r\n",
    "\r\n",
    "In the digital world, images are represented using matrices. This documentation explains the process of creating, manipulating, and displaying images using matrices, focusing on the technological aspects.\r\n",
    "\r\n",
    "1\\. Understanding Matrices in Image Representation\r\n",
    "--------------------------------------------------\r\n",
    "\r\n",
    "### 1.1 What is a Matrix?\r\n",
    "\r\n",
    "A matrix is a two-dimensional array of numbers arranged in rows and columns. In the context of images, a matrix represents the pixel values of an image.\r\n",
    "\r\n",
    "### 1.2 Pixels and Color Representation\r\n",
    "\r\n",
    "*   **Pixel:** The smallest unit of an image, representing a single point in the picture.\r\n",
    "    \r\n",
    "*   **Grayscale Images:** Represented by a 2D matrix where each element (pixel) has a value between 0 and 255. A value of 0 represents black, and 255 represents white.\r\n",
    "    \r\n",
    "*   **Color Images:** Represented by three 2D matrices (Red, Green, Blue) stacked together. Each matrix has values between 0 and 255 representing the intensity of the respective color channel.\r\n",
    "    \r\n",
    "\r\n",
    "2\\. Image Creation Using Matrices\r\n",
    "---------------------------------\r\n",
    "\r\n",
    "### 2.1 Creating a Grayscale Image\r\n",
    "\r\n",
    "A grayscale image can be created by defining a 2D matrix with values corresponding to the pixel intensities."
   ]
  },
  {
   "cell_type": "code",
   "execution_count": null,
   "id": "bdf6f1d8-befb-403a-9449-1a97dc82b195",
   "metadata": {},
   "outputs": [],
   "source": []
  },
  {
   "cell_type": "code",
   "execution_count": 1,
   "id": "80d547b5-192d-4a57-9712-117d0ed00204",
   "metadata": {},
   "outputs": [
    {
     "data": {
      "image/png": "[encoded data removed]",
      "text/plain": [
       "<Figure size 640x480 with 1 Axes>"
      ]
     },
     "metadata": {},
     "output_type": "display_data"
    }
   ],
   "source": [
    "import numpy as np\n",
    "import matplotlib.pyplot as plt\n",
    "\n",
    "# Create a 5x5 grayscale image matrix\n",
    "grayscale_image = np.array([\n",
    "    [0, 50, 100, 150, 200],\n",
    "    [10, 60, 110, 160, 210],\n",
    "    [20, 70, 120, 170, 220],\n",
    "    [30, 80, 130, 180, 230],\n",
    "    [40, 90, 140, 190, 240]\n",
    "])\n",
    "\n",
    "# Display the grayscale image\n",
    "plt.imshow(grayscale_image, cmap='gray')\n",
    "plt.show()\n"
   ]
  },
  {
   "cell_type": "markdown",
   "id": "c6b744fd-2cb8-4c76-925e-84277dea30b4",
   "metadata": {},
   "source": [
    "### 2.2 Creating a Color Image\r\n",
    "\r\n",
    "A color image is created by combining three matrices (Red, Green, Blue)."
   ]
  },
  {
   "cell_type": "code",
   "execution_count": 2,
   "id": "45f655b1-719d-4468-a2dc-2aca4bad45ec",
   "metadata": {},
   "outputs": [
    {
     "data": {
      "image/png": "[encoded data removed]",
      "text/plain": [
       "<Figure size 640x480 with 1 Axes>"
      ]
     },
     "metadata": {},
     "output_type": "display_data"
    }
   ],
   "source": [
    "# Create 5x5 matrices for Red, Green, and Blue channels\n",
    "red_channel = np.array([\n",
    "    [255, 0, 0, 255, 0],\n",
    "    [255, 0, 0, 255, 0],\n",
    "    [255, 0, 0, 255, 0],\n",
    "    [255, 0, 0, 255, 0],\n",
    "    [255, 0, 0, 255, 0]\n",
    "])\n",
    "\n",
    "green_channel = np.array([\n",
    "    [0, 255, 0, 0, 255],\n",
    "    [0, 255, 0, 0, 255],\n",
    "    [0, 255, 0, 0, 255],\n",
    "    [0, 255, 0, 0, 255],\n",
    "    [0, 255, 0, 0, 255]\n",
    "])\n",
    "\n",
    "blue_channel = np.array([\n",
    "    [0, 0, 255, 0, 0],\n",
    "    [0, 0, 255, 0, 0],\n",
    "    [0, 0, 255, 0, 0],\n",
    "    [0, 0, 255, 0, 0],\n",
    "    [0, 0, 255, 0, 0]\n",
    "])\n",
    "\n",
    "# Combine the three channels to form a color image\n",
    "color_image = np.stack((red_channel, green_channel, blue_channel), axis=2)\n",
    "\n",
    "# Display the color image\n",
    "plt.imshow(color_image)\n",
    "plt.show()\n"
   ]
  },
  {
   "cell_type": "markdown",
   "id": "4faa84db-2874-46bc-89e7-5c207417673d",
   "metadata": {},
   "source": [
    "3\\. Image Manipulation Using Matrices\n",
    "-------------------------------------\n",
    "\n",
    "### 3.1 Resizing an Image\n",
    "\n",
    "Resizing an image involves changing the dimensions of the matrix representing the image."
   ]
  },
  {
   "cell_type": "code",
   "execution_count": 8,
   "id": "4051eba6-d3c3-4b6c-afbd-b033874e91e9",
   "metadata": {},
   "outputs": [
    {
     "name": "stderr",
     "output_type": "stream",
     "text": [
      "C:\\Users\\Shubhankit\\AppData\\Local\\Temp\\ipykernel_5932\\417921004.py:10: DeprecationWarning: ANTIALIAS is deprecated and will be removed in Pillow 10 (2023-07-01). Use LANCZOS or Resampling.LANCZOS instead.\n",
      "  resized_image = image.resize((10, 10), Image.ANTIALIAS)\n"
     ]
    },
    {
     "data": {
      "image/png": "[encoded data removed]",
      "text/plain": [
       "<Figure size 640x480 with 1 Axes>"
      ]
     },
     "metadata": {},
     "output_type": "display_data"
    }
   ],
   "source": [
    "from PIL import Image\n",
    "import numpy as np\n",
    "import matplotlib.pyplot as plt\n",
    "\n",
    "\n",
    "# Convert numpy array to PIL Image\n",
    "image = Image.fromarray(color_image)\n",
    "\n",
    "# Resize the image to 10x10\n",
    "resized_image = image.resize((10, 10), Image.ANTIALIAS)\n",
    "\n",
    "# Convert back to numpy array for displaying\n",
    "resized_image_np = np.array(resized_image)\n",
    "\n",
    "# Display the resized image using matplotlib\n",
    "plt.imshow(resized_image_np)\n",
    "plt.show()\n"
   ]
  },
  {
   "cell_type": "code",
   "execution_count": null,
   "id": "7392fc17-0ab0-4cd7-a351-33c373d0bed6",
   "metadata": {},
   "outputs": [],
   "source": []
  },
  {
   "cell_type": "markdown",
   "id": "a634911d-287d-4da7-98a9-a66b029654f1",
   "metadata": {},
   "source": [
    "### 3.2 Filtering an Image\r\n",
    "\r\n",
    "Applying filters to an image involves matrix operations to enhance or detect features.\r\n",
    "\r\n",
    "Example (Gaussian Blur):"
   ]
  },
  {
   "cell_type": "code",
   "execution_count": 4,
   "id": "bd3346c0-fec8-4357-851d-e317e61b172b",
   "metadata": {},
   "outputs": [
    {
     "data": {
      "image/png": "[encoded data removed]",
      "text/plain": [
       "<Figure size 640x480 with 1 Axes>"
      ]
     },
     "metadata": {},
     "output_type": "display_data"
    }
   ],
   "source": [
    "from scipy.ndimage import gaussian_filter\n",
    "\n",
    "# Apply Gaussian Blur to the grayscale image\n",
    "blurred_image = gaussian_filter(grayscale_image, sigma=1)\n",
    "\n",
    "# Display the blurred image\n",
    "plt.imshow(blurred_image, cmap='gray')\n",
    "plt.show()\n"
   ]
  },
  {
   "cell_type": "markdown",
   "id": "5a25e8d3-8f00-4b21-97ed-e5f0f226cf68",
   "metadata": {},
   "source": [
    "4\\. Displaying Images on Screens\n",
    "--------------------------------\n",
    "\n",
    "### 4.1 Image Display Technology\n",
    "\n",
    "*   **LCD (Liquid Crystal Display):** Uses liquid crystals manipulated by electric fields to control light and display images.\n",
    "    \n",
    "*   **LED (Light Emitting Diode):** Uses LEDs to emit light and display images with higher brightness and contrast.\n",
    "    \n",
    "\n",
    "### 4.2 Matrix to Screen Mapping\n",
    "\n",
    "Each pixel in the matrix is mapped to a corresponding pixel on the screen. The intensity and color values are used to control the light emitted by each pixel."
   ]
  },
  {
   "cell_type": "code",
   "execution_count": null,
   "id": "5c6c0e87-0767-4eef-a64f-72e5c7f5bc82",
   "metadata": {},
   "outputs": [],
   "source": []
  }
 ],
 "metadata": {
  "kernelspec": {
   "display_name": "Python 3 (ipykernel)",
   "language": "python",
   "name": "python3"
  },
  "language_info": {
   "codemirror_mode": {
    "name": "ipython",
    "version": 3
   },
   "file_extension": ".py",
   "mimetype": "text/x-python",
   "name": "python",
   "nbconvert_exporter": "python",
   "pygments_lexer": "ipython3",
   "version": "3.11.6"
  }
 },
 "nbformat": 4,
 "nbformat_minor": 5
}
